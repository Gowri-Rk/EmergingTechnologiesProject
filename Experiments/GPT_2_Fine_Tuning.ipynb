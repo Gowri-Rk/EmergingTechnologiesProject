{
  "nbformat": 4,
  "nbformat_minor": 0,
  "metadata": {
    "colab": {
      "name": "GPT_2_Fine_Tuning.ipynb",
      "provenance": [],
      "collapsed_sections": []
    },
    "kernelspec": {
      "display_name": "Python 3",
      "name": "python3"
    },
    "accelerator": "TPU"
  },
  "cells": [
    {
      "cell_type": "markdown",
      "metadata": {
        "id": "H7LoMj4GA4n_"
      },
      "source": [
        "#  GPT_2_Fine_Tuning"
      ]
    },
    {
      "cell_type": "code",
      "metadata": {
        "colab": {
          "base_uri": "https://localhost:8080/"
        },
        "id": "KBkpRgBCBS2_",
        "outputId": "11517013-df5c-480e-d630-71009a503cc8"
      },
      "source": [
        "%tensorflow_version 1.x\n",
        "import tensorflow as tf\n",
        "print(\"Tensorflow version \" + tf.__version__)\n",
        "\n",
        "try:\n",
        "  tpu = tf.distribute.cluster_resolver.TPUClusterResolver()  # TPU detection\n",
        "  print('Running on TPU ', tpu.cluster_spec().as_dict()['worker'])\n",
        "except ValueError:\n",
        "  raise BaseException('ERROR: Not connected to a TPU runtime; please see the previous cell in this notebook for instructions!')\n",
        "\n",
        "tf.config.experimental_connect_to_cluster(tpu)\n",
        "tf.tpu.experimental.initialize_tpu_system(tpu)\n",
        "tpu_strategy = tf.distribute.experimental.TPUStrategy(tpu)"
      ],
      "execution_count": 1,
      "outputs": [
        {
          "output_type": "stream",
          "text": [
            "TensorFlow 1.x selected.\n",
            "Tensorflow version 1.15.2\n",
            "Running on TPU  ['10.30.74.98:8470']\n",
            "INFO:tensorflow:Initializing the TPU system: 10.30.74.98:8470\n",
            "INFO:tensorflow:Finished initializing TPU system.\n",
            "INFO:tensorflow:Querying Tensorflow master (grpc://10.30.74.98:8470) for TPU system metadata.\n",
            "INFO:tensorflow:Found TPU system:\n",
            "INFO:tensorflow:*** Num TPU Cores: 8\n",
            "INFO:tensorflow:*** Num TPU Workers: 1\n",
            "INFO:tensorflow:*** Num TPU Cores Per Worker: 8\n",
            "INFO:tensorflow:*** Available Device: _DeviceAttributes(/job:worker/replica:0/task:0/device:CPU:0, CPU, -1, 18028197080124891748)\n",
            "INFO:tensorflow:*** Available Device: _DeviceAttributes(/job:worker/replica:0/task:0/device:TPU:0, TPU, 17179869184, 17991131609050966605)\n",
            "INFO:tensorflow:*** Available Device: _DeviceAttributes(/job:worker/replica:0/task:0/device:TPU:1, TPU, 17179869184, 9386434570058223424)\n",
            "INFO:tensorflow:*** Available Device: _DeviceAttributes(/job:worker/replica:0/task:0/device:TPU:2, TPU, 17179869184, 10233127998310729735)\n",
            "INFO:tensorflow:*** Available Device: _DeviceAttributes(/job:worker/replica:0/task:0/device:TPU:3, TPU, 17179869184, 14133013046894081958)\n",
            "INFO:tensorflow:*** Available Device: _DeviceAttributes(/job:worker/replica:0/task:0/device:TPU:4, TPU, 17179869184, 8491909557970574708)\n",
            "INFO:tensorflow:*** Available Device: _DeviceAttributes(/job:worker/replica:0/task:0/device:TPU:5, TPU, 17179869184, 8727577325026378661)\n",
            "INFO:tensorflow:*** Available Device: _DeviceAttributes(/job:worker/replica:0/task:0/device:TPU:6, TPU, 17179869184, 1638086139852771652)\n",
            "INFO:tensorflow:*** Available Device: _DeviceAttributes(/job:worker/replica:0/task:0/device:TPU:7, TPU, 17179869184, 18368363232876152606)\n",
            "INFO:tensorflow:*** Available Device: _DeviceAttributes(/job:worker/replica:0/task:0/device:TPU_SYSTEM:0, TPU_SYSTEM, 8589934592, 6340923217470937481)\n",
            "INFO:tensorflow:*** Available Device: _DeviceAttributes(/job:worker/replica:0/task:0/device:XLA_CPU:0, XLA_CPU, 17179869184, 774730451440495860)\n"
          ],
          "name": "stdout"
        }
      ]
    },
    {
      "cell_type": "code",
      "metadata": {
        "colab": {
          "base_uri": "https://localhost:8080/"
        },
        "id": "qHPncidkIf7M",
        "outputId": "fa38b185-e29e-4021-eff7-b0c91fc96f2b"
      },
      "source": [
        "%tensorflow_version 1.x\r\n",
        "import tensorflow as tf\r\n",
        "!pip install -q gpt-2-simple\r\n",
        "import gpt_2_simple as gpt2\r\n",
        "from datetime import datetime\r\n",
        "from google.colab import files"
      ],
      "execution_count": 1,
      "outputs": [
        {
          "output_type": "stream",
          "text": [
            "TensorFlow 1.x selected.\n",
            "WARNING:tensorflow:\n",
            "The TensorFlow contrib module will not be included in TensorFlow 2.0.\n",
            "For more information, please see:\n",
            "  * https://github.com/tensorflow/community/blob/master/rfcs/20180907-contrib-sunset.md\n",
            "  * https://github.com/tensorflow/addons\n",
            "  * https://github.com/tensorflow/io (for I/O related ops)\n",
            "If you depend on functionality not listed there, please file an issue.\n",
            "\n"
          ],
          "name": "stdout"
        }
      ]
    },
    {
      "cell_type": "markdown",
      "metadata": {
        "id": "0wXB05bPDYxS"
      },
      "source": [
        "## Downloading GPT-2\n",
        "\n",
        "There are three released sizes of GPT-2:\n",
        "\n",
        "* `124M` (default): the \"small\" model, 500MB on disk.\n",
        "* `355M`: the \"medium\" model, 1.5GB on disk.\n",
        "* `774M`: the \"large\" model, cannot currently be finetuned with Colaboratory but can be used to generate text from the pretrained model (see later in Notebook)\n",
        "* `1558M`: the \"extra large\", true model.\n",
        "\n",
        "Larger models have more knowledge, but take longer to finetune and longer to generate text. You can specify which base model to use by changing `model_name` in the cells below."
      ]
    },
    {
      "cell_type": "code",
      "metadata": {
        "colab": {
          "base_uri": "https://localhost:8080/"
        },
        "id": "P8wSlgXoDPCR",
        "outputId": "e59d14cd-394f-4c62-e92d-4b9c5c6b3054"
      },
      "source": [
        "gpt2.download_gpt2(model_name=\"124M\")"
      ],
      "execution_count": 4,
      "outputs": [
        {
          "output_type": "stream",
          "text": [
            "Fetching checkpoint: 1.05Mit [00:00, 371Mit/s]                                                      \n",
            "Fetching encoder.json: 1.05Mit [00:00, 77.7Mit/s]                                                   \n",
            "Fetching hparams.json: 1.05Mit [00:00, 331Mit/s]                                                    \n",
            "Fetching model.ckpt.data-00000-of-00001: 498Mit [00:03, 142Mit/s]                                   \n",
            "Fetching model.ckpt.index: 1.05Mit [00:00, 222Mit/s]                                                \n",
            "Fetching model.ckpt.meta: 1.05Mit [00:00, 117Mit/s]                                                 \n",
            "Fetching vocab.bpe: 1.05Mit [00:00, 99.9Mit/s]                                                      \n"
          ],
          "name": "stderr"
        }
      ]
    },
    {
      "cell_type": "markdown",
      "metadata": {
        "id": "N8KXuKWzQSsN"
      },
      "source": [
        "## Google Drive Connection\n"
      ]
    },
    {
      "cell_type": "code",
      "metadata": {
        "colab": {
          "base_uri": "https://localhost:8080/"
        },
        "id": "puq4iC6vUAHc",
        "outputId": "0f5d11a7-3674-4e57-ba8e-e6b7cba8bb9c"
      },
      "source": [
        "gpt2.mount_gdrive()"
      ],
      "execution_count": 3,
      "outputs": [
        {
          "output_type": "stream",
          "text": [
            "Mounted at /content/drive\n"
          ],
          "name": "stdout"
        }
      ]
    },
    {
      "cell_type": "markdown",
      "metadata": {
        "id": "BT__brhBCvJu"
      },
      "source": [
        "## Input Text File"
      ]
    },
    {
      "cell_type": "code",
      "metadata": {
        "id": "6OFnPCLADfll"
      },
      "source": [
        "file_name = \"Text.txt\""
      ],
      "execution_count": 6,
      "outputs": []
    },
    {
      "cell_type": "markdown",
      "metadata": {
        "id": "HeeSKtNWUedE"
      },
      "source": [
        "A large text file containing contents of a reserach paper."
      ]
    },
    {
      "cell_type": "code",
      "metadata": {
        "id": "-Z6okFD8VKtS"
      },
      "source": [
        "gpt2.copy_file_from_gdrive(file_name)"
      ],
      "execution_count": 7,
      "outputs": []
    },
    {
      "cell_type": "markdown",
      "metadata": {
        "id": "LdpZQXknFNY3"
      },
      "source": [
        "## Finetune GPT-2"
      ]
    },
    {
      "cell_type": "code",
      "metadata": {
        "colab": {
          "base_uri": "https://localhost:8080/"
        },
        "id": "aeXshJM-Cuaf",
        "outputId": "b094b227-b06b-4cb4-bab8-d99f8e2a49f8"
      },
      "source": [
        "sess = gpt2.start_tf_sess()\n",
        "\n",
        "gpt2.finetune(sess,\n",
        "              dataset=file_name,\n",
        "              model_name='124M',\n",
        "              steps=10,\n",
        "              restore_from='fresh',\n",
        "              run_name='run1',\n",
        "              print_every=1,\n",
        "              sample_every=2,\n",
        "              save_every=5\n",
        "              )"
      ],
      "execution_count": 8,
      "outputs": [
        {
          "output_type": "stream",
          "text": [
            "WARNING:tensorflow:From /usr/local/lib/python3.6/dist-packages/gpt_2_simple/src/sample.py:17: where (from tensorflow.python.ops.array_ops) is deprecated and will be removed in a future version.\n",
            "Instructions for updating:\n",
            "Use tf.where in 2.0, which has the same broadcast rule as np.where\n",
            "Loading checkpoint models/124M/model.ckpt\n",
            "INFO:tensorflow:Restoring parameters from models/124M/model.ckpt\n"
          ],
          "name": "stdout"
        },
        {
          "output_type": "stream",
          "text": [
            "\r  0%|          | 0/1 [00:00<?, ?it/s]"
          ],
          "name": "stderr"
        },
        {
          "output_type": "stream",
          "text": [
            "Loading dataset...\n"
          ],
          "name": "stdout"
        },
        {
          "output_type": "stream",
          "text": [
            "100%|██████████| 1/1 [00:00<00:00,  2.60it/s]\n"
          ],
          "name": "stderr"
        },
        {
          "output_type": "stream",
          "text": [
            "dataset has 40452 tokens\n",
            "Training...\n",
            "[1 | 106.94] loss=3.40 avg=3.40\n",
            "[2 | 206.81] loss=3.63 avg=3.52\n",
            "======== SAMPLE 1 ========\n",
            " from a different set of circumstances.\n",
            "\n",
            "In this example the data that is being stored is not the same as the data that is being stored that the other data that is being stored is for one side.\n",
            "\n",
            "The difference is the data that is being stored for the other side. However, in the event that there is no data that the other side can see, it would not be as important to be precise at all when looking at the data as it is to be exact when looking at the data that the other side is doing.\n",
            "\n",
            "The difference is that while the other side may see in the data that it is not storing in that particular data which is being stored, the data that is being stored is being stored for the other side of this data.\n",
            "\n",
            "This is why you always see what is being stored in and between the different sets of data from different different tables.\n",
            "\n",
            "Why is this not the case for a user?\n",
            "\n",
            "In order to understand why in this case it is important for a user, we need to learn a little more.\n",
            "\n",
            "Before we proceed with the user part, let's learn what was done in order to create this user.\n",
            "\n",
            "First, we need to realize that you can add a user as your unique identifier.\n",
            "\n",
            "If we add another user, we can add more user information as well.\n",
            "\n",
            "For example, for creating the user, we would first create a database and add a user that was created by creating an instance of the user database.\n",
            "\n",
            "And that is how we add other people users.\n",
            "\n",
            "In the example above, we created two users with the same group of accounts by creating an instance of a class with the user.\n",
            "\n",
            "Each user that we created in the user database contains the same group of accounts in a different group of accounts. That group of accounts is what will be required to tell the user which roles are used by which users in the user database.\n",
            "\n",
            "In a more complicated case, another user needs to be created to access a different data that a user had set up by deleting it.\n",
            "\n",
            "In this case, the user needs to set up a new user account to access the different data that a user had set up by deleting the data.\n",
            "\n",
            "So it is that simple, you can create a user for each role and set up another one in the same group of accounts. This is how you create user accounts.\n",
            "\n",
            "The different roles that each user has set up by deleting this data will then be assigned.\n",
            "\n",
            "There will be other role sets for each user, but one role will still be assigned to the other. This way you can create a whole lot of roles.\n",
            "\n",
            "And that is how you create a new user, for each role.\n",
            "\n",
            "A user is created that is not assigned as an assignment so there is no need to manually fill in the roles to create your user accounts as an assignment.\n",
            "\n",
            "You can also create multiple people using different roles to create a user for each purpose.\n",
            "\n",
            "Here are a couple of examples of how to create a user that is not assigned as an assignment so there can be several ways of creating a user that is not assigned as an assignment.\n",
            "\n",
            "Create a User for Each Role\n",
            "\n",
            "You can now create a new user within a role that you have already placed as an assignment.\n",
            "\n",
            "You could now create two roles, and assign that role as an assignment. What if you want to create two people, but only assign one person as an assignment?\n",
            "\n",
            "This is the way that I create a user for all roles.\n",
            "\n",
            "And that is how you create a new user who is the same as the previous person in the user database that you created previously.\n",
            "\n",
            "So that can be a lot easier just to just create a new user for each role.\n",
            "\n",
            "Create a User for Each Role\n",
            "\n",
            "Now that we have created a user, how can you create another user for each role as well, to create a new user for every role?\n",
            "\n",
            "Here are two examples of how you can create a user for each role and assign them as an assignment.\n",
            "\n",
            "Create a user for each role\n",
            "\n",
            "In this case, you create a new user for each role.\n",
            "\n",
            "And that is how you create the user for each role so you can perform a task for each role.\n",
            "\n",
            "Create a User for Each Role\n",
            "\n",
            "If you start by creating a new user, and assign it as an assignment, then your task can be done as either by creating a new user for each role or by creating another user that you created previously.\n",
            "\n",
            "If you work through your tasks, now that you have created a user for each role, do you see that there is a lot of work that you have to do to create the user within each role?<|endoftext|>BALTIMORE (WJZ) - A man is killed by a bullet that left him with a bullet wound to the head.\n",
            "\n",
            "\n",
            "Investigators are talking with witnesses who saw the\n",
            "\n",
            "[3 | 403.58] loss=3.50 avg=3.51\n",
            "[4 | 501.94] loss=3.51 avg=3.51\n",
            "======== SAMPLE 1 ========\n",
            "�/v/1/v/1/q-t&c=q,p&q=t&d=w\n",
            "\n",
            "\n",
            "I think it's possible that some kind of self-modification process is needed to bring back this image. Also, how was the original image used? Is there any other information about it that can be included in the images?\n",
            "\n",
            "\n",
            "If you are reading all of this, don't worry, it's only a snapshot of your original image: it is a bit of a work in progress to get all of the information in a single image, so please stay tuned.\n",
            "\n",
            "You are the only one that has the opportunity to take the images, so you don't have to make any more copies. It is up to you to make all the correct changes as needed.\n",
            "\n",
            "If you were to replace this image with a newer image, all the work will be in the image that is currently on the internet, and all the information in the image will be in its own folder.You are the only one that has the opportunity to take the images, so you don't have to make any more copies. It is up to you to make all the correct changes as needed.\n",
            "\n",
            "Thanks for reading this.\n",
            "\n",
            "\n",
            "Please note: all of the changes in this image are intended to make the original image even smaller and to make the original image look different and different.\n",
            "\n",
            "You will see your changes in all the images, including the image at left, which is the size of the original image and the image at right.\n",
            "\n",
            "To ensure your images look the same, and to make the image as original as possible, I recommend that you use an image reduction solution that is as consistent and accurate as possible. This means less noise in the image and less distortion in the original image. If you consider using multiple images and different image-compression models, you may want to consider using a set of different image-compression models.If you are reading all of this, don't worry, it's only a snapshot of your original image: it is a bit of a work in progress to get all of the information in a single image, so please stay tuned.If you were to replace this image with a newer image, all the work will be in the image that is currently on the internet, and all the information in the image will be in its own folder.You will see your changes in all the images, including the image at right, which is the size of the original image and the image at left.To ensure your images look the same, and to make the image as original as possible, I recommend that you use an image reduction solution that is as consistent and accurate as possible. This means less noise in the image and less distortion in the original image. If you consider using multiple images and different image-compression models, you may want to consider using a set of different image-compression models.\n",
            "\n",
            "\n",
            "It's easy to make a batch of images where all the images you include are the same (such as using a single image as a base for all of the images that are not included on this list). It does not do a good job of representing all the possible combinations of elements in a image. The result is the following:\n",
            "\n",
            "This is a simple to make process, but you can use anything that you can think of to make a batch of images. For example, I can make a image from a number of different images each time I upload the image. Since I only upload a few each day, I can make multiple batches over my network (at the same time each day, or at the same time each week).\n",
            "\n",
            "\n",
            "The above image in the image-search results does a fairly decent job, as does the image in the image to the right. I have no reason to assume that this image is a complete loss. All information in this image is a significant chunk of the original image, with the exact right elements and proportions, and all sizes and colors within each element.\n",
            "\n",
            "\n",
            "Once that information is in the image, any loss that cannot be completely erased will usually be made at that point. But as you can see, the raw processing in any image process is so efficient that even without the raw processing, the image would be very similar to the original.\n",
            "\n",
            "\n",
            "So I'm going to include all the missing information here. We've learned a lot over the past few years, so as always, any potential confusion or problems are welcome.\n",
            "\n",
            "\n",
            "Finally, as you can see, the size of each part of the image can be found in its own folder. There is no need to write down anything like this: simply include the size of each part and move the file to the next point in the image, for example by splitting the images into folders, for simplicity.\n",
            "\n",
            "\n",
            "This will require some research and preparation before the final version can be produced in many different image compression engines, and it will be a long journey to get there. If you have any suggestions for\n",
            "\n",
            "[5 | 694.71] loss=3.31 avg=3.47\n",
            "Saving checkpoint/run1/model-5\n",
            "[6 | 796.64] loss=3.16 avg=3.42\n",
            "======== SAMPLE 1 ========\n",
            "rather of a \"real job\", he was not an unemployed person in general. He had a job to do but he had no time, he said, to develop this work of his own. In the end, there was nothing to do but to work, on any kind of level, in order to achieve some objective.\n",
            "\n",
            "He considered that the \"solution\" was to create more work by developing more tasks. In a study of the work of a young individual, such as Mr Tamblyn and his father, he concluded that this was probably the biggest reason that young people failed to have the capacity to take a meaningful and constructive part in the life of a child.\n",
            "\n",
            "In other contexts young people were, he said, \"often involved in their own work\". They were also often involved in the development of new skills.\n",
            "\n",
            "At one point, however, he pointed out that these children were often children who had been exposed, particularly in children who were working by themselves, to the difficulties of life in their home countries.\n",
            "\n",
            "Such a view was supported by a series of recent research by Paul and David Tamblyn and others.\n",
            "\n",
            "A recent review of such research revealed that it can be difficult to distinguish between people who are being asked by their parents to take advantage of some of the benefits of a new role or profession or to find a new level of opportunity.\n",
            "\n",
            "Mr Tamblyn and others point out the importance of learning in learning. Their work, for example, has led to improvements in human-computer interfaces, which make it possible for people to study different areas in different locations. But, as the authors of the recent meta-analysis show, that is not always the case. One study found that it was difficult to assess the importance of the work of many young people; another study suggested that a lack of training can help explain why.\n",
            "\n",
            "In a recent issue of the Journal of the American Medical Association on the subject, the author, William Henschneider, has also suggested that \"early-life learning\" may also have an impact on the rate of work in education. His most recent study has found that early-life learning, he says, may have resulted in increases in the number of \"exercises\" that are actually used, by introducing \"preparations\" to help facilitate an early learning. In other words, the early-life learning of students does not only result in better understanding in later years but also may help predict future behaviour .\n",
            "\n",
            "Mr Henschneider has also explored the link between school readiness and working-age unemployment. He has estimated that there are three to five times as many unemployed people as full-time workers in Britain. Many experts agree that although the number of unemployed is higher among low-income countries, it is usually lower among high-middle-income countries.\n",
            "\n",
            "He says that although this relationship is somewhat complex, the current policy framework is \"more broadly applicable\". That is to say, a more generally-oriented policy of unemployment policy and unemployment benefit measures has led to a substantial increase in unemployment among high-preferred workers and, in many cases, over the last three years. Some argue that such the shift has been driven by the increased cost of education and by higher education.\n",
            "\n",
            "A meta-analysis of some of these studies, as well as other meta-researches, has produced strong support for the idea that a stronger set of early-life learning methods to help people to improve early skills than to train a new work-style such as a traditional education, can benefit both work and the economy. Many also argue that some early-life learning may actually improve children's prospects for better educational outcomes.\n",
            "\n",
            "Dr Henschneider agrees. He says that early school education and the early workplace were \"convenient\" technologies for early-life learning because the technology was relatively inexpensive, and the early-work environments did not require children to learn to perform tasks by hand. However, his own work on early-work environments suggests that these early skills may have been more difficult on older, less well-off children.\n",
            "\n",
            "Another source of support for the views of others is the work of David Tamblyn. He was a pioneer of the role of early-career teaching as well as early-career mentoring, in which teachers train children to be more responsible for the work of others before they can use the work knowledge to improve the work of others. While Tamblyn's own evidence has been controversial, he has argued that early-career training may help children become the leaders of their own careers, as they can gain a wider understanding of how a student can become a better leader by following their lead.\n",
            "\n",
            "Dr Tamblyn has also been a strong critic of recent recent research on the role of early job opportunities after childbirth. He has often highlighted the recent work on the importance of early-career education in this regard. He recently published an article in the Royal Society journal PNAS entitled The\n",
            "\n",
            "[7 | 986.73] loss=3.38 avg=3.41\n",
            "[8 | 1085.63] loss=2.92 avg=3.35\n",
            "======== SAMPLE 1 ========\n",
            " tune. He played two games in the NFL, but he took off, finishing his rookie season with 1,500 yards rushing, 4 TD, and 2 INT. He had to work with some younger receivers to develop, especially in the short passing game. His first season was mostly successful, but didn't provide the speed, agility or speed to put the ball in the hands of receivers as he developed throughout the 2014.\n",
            "This season, Diggs is going to play more and more with the Jets. With the new offense he is expected to improve, while his usage will still be limited by his old work with the offense. The Jets currently have one full season to run, with Jameel Greene at the peak of his career. He is likely to step back into the majority of Jets' roles by returning to their offense in 2017.\n",
            "The good news is that Ealy, Diggs and Eustalt have all been healthy and have started in the regular season and playoffs, and now Diggs has his opportunity to shine. He has a solid arm, which should give him some more depth as he continues to refine his game.\n",
            "Diggs has already been compared to Cam Newton (6) as the leader of the NFL as he displayed the speed, endurance and vision required to perform well on the field, and had some of the best statistics on the field. He has had some high-end stats such as receiving yards, touchdowns, receptions, receptions per game (20.2) and average per game score (990) that he displayed on the field over the last two seasons. He leads the league in interceptions with a 1.6 per game, while he leads the league in pass rush with 1.9 per game, and has shown off his vision more often than just on the field.\n",
            "Diggs has a good size (6'3\" with a 4.75 speed) that has been able to work with the New York Jets' offense by setting his target set at the target set rather than an entire matchup. However, his accuracy can still fall off with the increase in coverage and drop coverage, but his efficiency often has decreased with the increased coverage and drop coverage. He also has shown some good ball skills and good accuracy, but lacks control over his drop angle and can become far too aggressive on the field. He also has poor accuracy when diving and can get thrown a few steps or even thrown before he actually hits the target.\n",
            "However, he has shown more skill using both the open field and the shotgun routes as he has attempted to create more separation and create opportunities for his defenders to get past him at all times. He has shown that he can consistently run out of space in the open field and in the shotgun. However, his accuracy on the open field has also proven to be inconsistent. He had no experience in those positions but still has good numbers on the open field in individual pass plays. However, they both show a number of problems including running the open field, where speed can be an issue, which lead to situations where he could be outshone by other running backs.\n",
            "While Diggs has had some struggles, he has shown a willingness to take on challenges in the open field. He has also shown good speed, but showed an ability to make contact off coverage rather than running in the open field.\n",
            "While Diggs has shown a good range of movement, he can also struggle to stay under the radar due to his speed. He has shown an ability to run with his hands in the air as he has developed to a faster paced game. He has shown some versatility when dealing with receivers in the open field, but has struggled to play outside and on the ball out of range. He also has struggled to make accurate throws to the ball in open field, but has shown good range over the last couple of years to avoid these issues.\n",
            "He has also shown good quickness when making a mistake, such as in catching a drop. He has also shown ability to make an accurate split-second decision, such as making a play from the shotgun line or to the same receiver as the thrower. This versatility is especially helpful when working to take advantage of safety opportunities for receivers.\n",
            "In the opening days of the NFL season, Diggs had some issues with dealing with the press. He had to adapt to playing in the hands of a few media, but has since returned to playing on an active basis. In the NFL, athletes must take a stand in how a team communicates, but typically Diggs has made it clear in the past that he believes in his teammates. He has made it a priority for this work, with players including running back Maurice Jones-Drew being a major draw.\n",
            "In a positive way, Diggs also leads the league in interceptions per game. He has thrown for 3,000 yards in six of the seven NFL seasons that he has been with the Jets, while has posted an interception rate of 3.4 per game from last season.\n",
            "Overall, Diggs is a strong defensive runner who\n",
            "\n",
            "[9 | 1279.20] loss=2.90 avg=3.30\n",
            "[10 | 1378.03] loss=3.21 avg=3.29\n",
            "Saving checkpoint/run1/model-10\n",
            "WARNING:tensorflow:From /tensorflow-1.15.2/python3.6/tensorflow_core/python/training/saver.py:963: remove_checkpoint (from tensorflow.python.training.checkpoint_management) is deprecated and will be removed in a future version.\n",
            "Instructions for updating:\n",
            "Use standard file APIs to delete files with this prefix.\n"
          ],
          "name": "stdout"
        }
      ]
    },
    {
      "cell_type": "code",
      "metadata": {
        "id": "VHdTL8NDbAh3"
      },
      "source": [
        "gpt2.copy_checkpoint_to_gdrive(run_name='run1')"
      ],
      "execution_count": 9,
      "outputs": []
    },
    {
      "cell_type": "markdown",
      "metadata": {
        "id": "pel-uBULXO2L"
      },
      "source": [
        "## Load a Trained Model Checkpoint\n"
      ]
    },
    {
      "cell_type": "code",
      "metadata": {
        "id": "DCcx5u7sbPTD"
      },
      "source": [
        "gpt2.copy_checkpoint_from_gdrive(run_name='run1')"
      ],
      "execution_count": 4,
      "outputs": []
    },
    {
      "cell_type": "code",
      "metadata": {
        "colab": {
          "base_uri": "https://localhost:8080/"
        },
        "id": "-fxL77nvAMAX",
        "outputId": "ddff2680-2750-4a51-e1b3-e71747eb0a2f"
      },
      "source": [
        "sess = gpt2.start_tf_sess()\n",
        "gpt2.load_gpt2(sess, run_name='run1')"
      ],
      "execution_count": 5,
      "outputs": [
        {
          "output_type": "stream",
          "text": [
            "Loading checkpoint checkpoint/run1/model-10\n",
            "INFO:tensorflow:Restoring parameters from checkpoint/run1/model-10\n"
          ],
          "name": "stdout"
        }
      ]
    },
    {
      "cell_type": "markdown",
      "metadata": {
        "id": "ClJwpF_ACONp"
      },
      "source": [
        "## Generate Text From The Trained Model"
      ]
    },
    {
      "cell_type": "code",
      "metadata": {
        "colab": {
          "base_uri": "https://localhost:8080/"
        },
        "id": "4RNY6RBI9LmL",
        "outputId": "4c84bfa1-3270-4470-ef2f-73edac49ead4"
      },
      "source": [
        "gpt2.generate(sess, run_name='run1')"
      ],
      "execution_count": 6,
      "outputs": [
        {
          "output_type": "stream",
          "text": [
            "The first act of the charm attack is to create a small opening on the target target on the left, and then a small opening on the right. The first act of the charm attack is to make the target move with the target, and then move with the target. If the target moves with the target, the charm attack can be triggered by the target moving with the target.\n",
            "\n",
            "Entering a space on the target's left hand side can be used to optimize the target for moving with the target. Here we use the correct curve of the target so as to show the target as moving with the target, or with an edge to attack.\n",
            "\n",
            "The first step in the attack is to draw a line on the target and use it to draw a circle.\n",
            "\n",
            "Here we use the base layout of the target (the target is the same as the base), in which the target has a circle to the left and a circle to the right.\n",
            "\n",
            "Here we use the base layout where we draw a line on the target and draw a circle to the left.\n",
            "The second step of the attack is to set up the target to attack. Here we use the base layout of the target so that we can draw a line on the target.\n",
            "And the third step is to set up the target to attack. Here we do this by drawing a line on the target so that we can draw a line on the target.\n",
            "Here we use the base layout so that we can draw a line on the target.\n",
            "And finally we use the base layout so that we can draw a line on the target.\n",
            "In this section we describe how to set up the base layout.\n",
            "The base layout\n",
            "The base layout\n",
            "The base layout is a way of defining the layout of the target, which is useful for example to define the layout of a single application.\n",
            "In this section we discuss how to define the base layout.\n",
            "The base layout\n",
            "The base layout is a way of defining the layout of a single application that is simply the base layout.\n",
            "In this section we discuss the base layout and how to define the base layout.\n",
            "The base layout\n",
            "The base layout is a way of defining the base layout of a single application.\n",
            "In this section we discuss the base layout of the target. In this section we discuss the base layout of the target.\n",
            "The base layout\n",
            "The base layout is a way of defining the base layout of a single application.\n",
            "In this section we discuss the base layout of the target.\n",
            "The base layout\n",
            "The base layout is the base layout of a single application.\n",
            "In this section we discuss the base layout of the target.\n",
            "The base layout\n",
            "The base layout is a way of defining the base layout of a single application.\n",
            "In this section we discuss the base layout of a target.\n",
            "The base layout\n",
            "The base layout is the base layout of a single target.\n",
            "In this section we discuss the base layout of the target.\n",
            "The base layout\n",
            "The base layout is the base layout of a single target.\n",
            "In this section we discuss the base layout of the target.\n",
            "The base layout\n",
            "The base layout is a way of defining the base layout of a single target.\n",
            "In this section we discuss the base layout of a target.\n",
            "The base layout\n",
            "The base layout is the base layout of a single target.\n",
            "In this section we discuss the base layout of a target.\n",
            "The base layout\n",
            "The base layout is a way of defining the base layout of a single target.\n",
            "In this section we discuss the base layout of a target.\n",
            "The base layout\n",
            "The base layout is a way of defining the base layout of a single target.\n",
            "In this section we discuss the base layout of a target.\n",
            "The base layout\n",
            "The base layout is a way of defining the base layout of a single target.\n",
            "In this section we discuss the base layout of a target.\n",
            "The base layout\n",
            "The base layout is a way of defining the base layout of a single target.\n",
            "In this section we discuss the base layout of a target.\n",
            "The base layout\n",
            "The base layout is a way of defining the base layout of a single target.\n",
            "In this section we discuss the base layout of a target.\n",
            "The base layout\n",
            "The base layout is a way of defining the base layout of a single target.\n",
            "In this section we discuss the base layout of a target.\n",
            "The base layout\n",
            "The base layout is a way of defining the base layout of a single target.\n",
            "In this section we discuss the base layout of a target.\n",
            "The base layout\n",
            "The base layout is a way of defining the base layout of a single target.\n",
            "In this section we discuss the base layout of a target.\n",
            "Next we are going to take a look at how to use base layout in a single application, such as a web application.\n",
            "This is a topic that often gets discussed in the Web Applications section, where we discuss the best practices for using base\n"
          ],
          "name": "stdout"
        }
      ]
    },
    {
      "cell_type": "code",
      "metadata": {
        "colab": {
          "base_uri": "https://localhost:8080/"
        },
        "id": "8DKMc0fiej4N",
        "outputId": "4686dd7a-2e0a-4e0b-e43e-1d45cd363c2d"
      },
      "source": [
        "gpt2.generate(sess,\n",
        "              length=250,\n",
        "              temperature=0.7,\n",
        "              prefix=\"LORD\",\n",
        "              nsamples=5,\n",
        "              batch_size=5\n",
        "              )"
      ],
      "execution_count": 7,
      "outputs": [
        {
          "output_type": "stream",
          "text": [
            "LORD FOODS\n",
            "\n",
            "Many popular food and drink brands are also used in the previous section. However, there are many different kinds of food and drinks that are differentiating themselves from the main body of the food industry:\n",
            "\n",
            "LONGER-LONG\n",
            "\n",
            "LONGER-ETHERING\n",
            "\n",
            "LONG-LONG-LONG\n",
            "\n",
            "LONG-LONG-LONG\n",
            "\n",
            "LONG-LONG-LONG\n",
            "\n",
            "A very famous example of this is the LUSION.\n",
            "\n",
            "LONG-LONG\n",
            "\n",
            "A well-known example of this is the POTATO.\n",
            "\n",
            "LONG-LONG\n",
            "\n",
            "POTATO\n",
            "\n",
            "POTATO\n",
            "\n",
            "LONG-LONG\n",
            "\n",
            "LONG-LONG\n",
            "\n",
            "LONG-LONG\n",
            "\n",
            "LONG-LONG\n",
            "\n",
            "LONG-LONG\n",
            "\n",
            "A common misconception about food and drink marketing methods is that they are all performance-based. This is an incorrect assumption. Indeed, performance-based marketing methods are generally based on the concept of performance, rather than on the objective of the product.\n",
            "Performance-based marketing methods are usually based on complex methods such as making sure the\n",
            "====================\n",
            "LORD\n",
            "\n",
            "See also the following collection of images:\n",
            "\n",
            "GOLD\n",
            "\n",
            "See also the following collection of images:\n",
            "\n",
            "HENRY\n",
            "\n",
            "See also the following collection of images:\n",
            "\n",
            "HIGHLIGHT\n",
            "\n",
            "See also the following collection of images:\n",
            "\n",
            "LIGHT\n",
            "\n",
            "See also the following collection of images:\n",
            "\n",
            "LUST\n",
            "\n",
            "See also the following collection of images:\n",
            "\n",
            "LIMIT\n",
            "\n",
            "See also the following collection of images:\n",
            "\n",
            "MISC\n",
            "\n",
            "See also the following collection of images:\n",
            "\n",
            "MISC\n",
            "\n",
            "See also the following collection of images:\n",
            "\n",
            "MISC\n",
            "\n",
            "See also the following collection of images:\n",
            "\n",
            "MISC\n",
            "\n",
            "See also the following collection of images:\n",
            "\n",
            "MISC\n",
            "\n",
            "See also the following collection of images:\n",
            "\n",
            "MISC\n",
            "\n",
            "See also the following collection of images:\n",
            "\n",
            "PARTICIPATE\n",
            "\n",
            "See also the following collection of images:\n",
            "\n",
            "PARTICIPATE\n",
            "\n",
            "See also the following collection of images:\n",
            "\n",
            "PARTICIPATE\n",
            "\n",
            "See also the following collection of images:\n",
            "\n",
            "PARTICIPATE\n",
            "\n",
            "See also the following collection of images:\n",
            "PROCED\n",
            "====================\n",
            "LORD\n",
            "( ->\n",
            "( = )\n",
            "( = )\n",
            "( = )\n",
            "LORD.\n",
            "( = ) =>\n",
            "( = )\n",
            "LORD.\n",
            "( = )\n",
            "LORD.\n",
            "( = ) =>\n",
            "( = )\n",
            "LORD.\n",
            "( = ) =>\n",
            "( = )\n",
            "LORD.\n",
            "( = ) =>\n",
            "( = )\n",
            "LORD.\n",
            "( = ) =>\n",
            "( = )\n",
            "LORD.\n",
            "( = ) =>\n",
            "( = )\n",
            "LORD.\n",
            "( = ) =>\n",
            "( = )\n",
            "LORD.\n",
            "( = ) =>\n",
            "( = )\n",
            "LORD.\n",
            "( = ) =>\n",
            "( = )\n",
            "LORD.\n",
            "( = ) =>\n",
            "( = )\n",
            "LORD.\n",
            "( = ) =>\n",
            "( = )\n",
            "LORD.\n",
            "( = ) =>\n",
            "( = )\n",
            "LORD.\n",
            "( = ) =>\n",
            "( = )\n",
            "LORD.\n",
            "( = ) =>\n",
            "( = )\n",
            "LORD.\n",
            "( = ) =>\n",
            "( = )\n",
            "LORD.\n",
            "( = ) =>\n",
            "( = )\n",
            "LORD.\n",
            "( = ) =>\n",
            "( = )\n",
            "LORD.\n",
            "(\n",
            "====================\n",
            "LORD (1965) The Principles of Classified Vocabulary, 6th Edition (Edinburgh University Press)\n",
            "\n",
            "ROUNRICH (1966) The usually-used rules of English grammar (Edinburgh University Press)\n",
            "\n",
            "RUSSENBERG (1961) The Basic Principles of Speech, 3rd Edition (Edinburgh University Press)\n",
            "\n",
            "SANDER (1961) The Common Language, 6th Edition (Edinburgh University Press)\n",
            "\n",
            "SANDERS (1961) The Common Language, 6th Edition (Edinburgh University Press)\n",
            "\n",
            "SHERMAN (1961) The Common Language, 6th Edition (Edinburgh University Press)\n",
            "SHARVISH (1961) The Common Language, 6th Edition (Edinburgh University Press)\n",
            "Shurvy\n",
            "[1] The Common Language, 6th Edition (Edinburgh University Press)\n",
            "[2] The Common Language, in its 5th edition\n",
            "[3] The Common Language, in its 5th edition\n",
            "[4] The Common Language, in its 5th edition\n",
            "[5] The Common Language, in its 5th edition\n",
            "[6] The Common Language, in its 5th edition\n",
            "[7] The Common Language\n",
            "====================\n",
            "LORD: The difference between this and the Classical Lisp\n",
            "language (see Section 5.1 for a\n",
            "better comparison).\n",
            "Note: In the old PML, each\n",
            "LORD has a single value parameter, and the\n",
            "value of this parameter is determined by the\n",
            "translation of the language specification.\n",
            "LORD: This is the initial value in the LORD.\n",
            "LORD: The initial value.\n",
            "LORD: This is the value of the translation function\n",
            "(see Section 5.1).\n",
            "LORD: The initial value in the LORD.\n",
            "LORD: The value of the translation function.\n",
            "LORD: The initial value of the language specification.\n",
            "LORD: The initial value of the translation function.\n",
            "LORD: The initial value of the translation function.\n",
            "LORD: The initial value of the translation function.\n",
            "LORD: The initial value of the translation function.\n",
            "LORD: The initial value of the translation function.\n",
            "LORD: The initial value of the translation function.\n",
            "LORD: The initial value of the translation function.\n",
            "LORD: The initial value of the translation function.\n",
            "LORD: The initial value of the translation function.\n",
            "LORD: The\n",
            "====================\n"
          ],
          "name": "stdout"
        }
      ]
    },
    {
      "cell_type": "markdown",
      "metadata": {
        "id": "wmTXWNUygS5E"
      },
      "source": [
        "# References\n",
        "\n",
        "Max Woolf, 'Train_GPT_2', 2019, MIT : https://minimaxir.com/2019/09/howto-gpt2/"
      ]
    }
  ]
}