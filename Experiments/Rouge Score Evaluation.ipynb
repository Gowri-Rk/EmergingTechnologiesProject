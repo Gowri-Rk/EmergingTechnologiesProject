{
 "cells": [
  {
   "cell_type": "markdown",
   "metadata": {},
   "source": [
    "# Content Summarization Evaluation\n",
    "\n",
    "Calculation of rouge scores requires a golden standard of summaries against which the summaries extracted by varioud models are computed. \n",
    "\n",
    "We use the dataset opiniosis (details below) to calculate rouge scores.\n",
    "\n",
    "The following are the various models tried:\n",
    "\n",
    "1. Word frequency model\n",
    "2. Text Rank (Gensim)\n",
    "3. BERT extractive summarizer\n",
    "4. T5 huggingface transformer model\n",
    "5. BART huggingface transformer model"
   ]
  },
  {
   "cell_type": "code",
   "execution_count": 1,
   "metadata": {},
   "outputs": [],
   "source": [
    "import numpy as np\n",
    "import pandas as pd"
   ]
  },
  {
   "cell_type": "markdown",
   "metadata": {},
   "source": [
    "# 1. Opinosis Dataset\n",
    " - Contain **51 paragraphs** of user reviews on a given topic, obtained from Tripdvisor, Edmunds and Amazon\n",
    " - Each paragraph contains 100 sentence in average\n",
    " - Data file also contains **gold standard summaries** of each paragraph for test and validation\n",
    " \n",
    " https://kavita-ganesan.com/opinosis-opinion-dataset/#.Xe6Ya-hKhPY\n",
    " \n",
    " https://github.com/kavgan/opinosis-summarization"
   ]
  },
  {
   "cell_type": "code",
   "execution_count": 2,
   "metadata": {},
   "outputs": [],
   "source": [
    "df = pd.read_csv('C:\\My Github\\EmergingTechnologiesProject\\Experiments\\datasets\\opinosis.csv')"
   ]
  },
  {
   "cell_type": "code",
   "execution_count": 3,
   "metadata": {},
   "outputs": [
    {
     "data": {
      "text/html": [
       "<div>\n",
       "<style scoped>\n",
       "    .dataframe tbody tr th:only-of-type {\n",
       "        vertical-align: middle;\n",
       "    }\n",
       "\n",
       "    .dataframe tbody tr th {\n",
       "        vertical-align: top;\n",
       "    }\n",
       "\n",
       "    .dataframe thead th {\n",
       "        text-align: right;\n",
       "    }\n",
       "</style>\n",
       "<table border=\"1\" class=\"dataframe\">\n",
       "  <thead>\n",
       "    <tr style=\"text-align: right;\">\n",
       "      <th></th>\n",
       "      <th>text</th>\n",
       "      <th>topics</th>\n",
       "      <th>summary_number_1</th>\n",
       "      <th>summary_number_2</th>\n",
       "      <th>summary_number_3</th>\n",
       "      <th>summary_number_4</th>\n",
       "      <th>summary_number_5</th>\n",
       "    </tr>\n",
       "  </thead>\n",
       "  <tbody>\n",
       "    <tr>\n",
       "      <th>0</th>\n",
       "      <td>, and is very, very accurate .\\r\\r\\n but for t...</td>\n",
       "      <td>accuracy_garmin_nuvi_255W_gps</td>\n",
       "      <td>This unit is generally quite accurate.  \\r\\r\\n...</td>\n",
       "      <td>The Garmin seems to be generally very accurate...</td>\n",
       "      <td>It is very accurate, even in destination time....</td>\n",
       "      <td>Very accurate with travel and destination time...</td>\n",
       "      <td>Its accurate, fast and its simple operations m...</td>\n",
       "    </tr>\n",
       "    <tr>\n",
       "      <th>1</th>\n",
       "      <td>The room was not overly big, but clean and ve...</td>\n",
       "      <td>bathroom_bestwestern_hotel_sfo</td>\n",
       "      <td>The rooms were not large but were clean and ve...</td>\n",
       "      <td>Rooms are not big, but clean and with comforta...</td>\n",
       "      <td>Bathrooms are satisfactory. \\r\\r\\nThe rooms ar...</td>\n",
       "      <td>Bathrooms are mostly adequate sized and clean ...</td>\n",
       "      <td>People were most impressesd with the bathrooms...</td>\n",
       "    </tr>\n",
       "    <tr>\n",
       "      <th>2</th>\n",
       "      <td>After I plugged it in to my USB hub on my com...</td>\n",
       "      <td>battery-life_amazon_kindle</td>\n",
       "      <td>Battery life is exceptional.\\r\\r\\nThe Kindle c...</td>\n",
       "      <td>Battery life is exceptional.\\r\\r\\nThe Kindle c...</td>\n",
       "      <td>It can be a very difficult process when trying...</td>\n",
       "      <td>The battery life of the Kindle is very long.\\r...</td>\n",
       "      <td>The battery life of the Kindle is very long.\\r...</td>\n",
       "    </tr>\n",
       "    <tr>\n",
       "      <th>3</th>\n",
       "      <td>short battery life  I moved up from an 8gb .\\...</td>\n",
       "      <td>battery-life_ipod_nano_8gb</td>\n",
       "      <td>The battery life is too short.\\r\\r\\nThe time b...</td>\n",
       "      <td>The battery life of the ipod nano is very shor...</td>\n",
       "      <td>The battery life of the Ipod Nano 8GB is far t...</td>\n",
       "      <td>Battery life is very short, especially when yo...</td>\n",
       "      <td>Battery life short, especially for video.</td>\n",
       "    </tr>\n",
       "    <tr>\n",
       "      <th>4</th>\n",
       "      <td>6GHz 533FSB cpu, glossy display, 3, Cell 23Wh ...</td>\n",
       "      <td>battery-life_netbook_1005ha</td>\n",
       "      <td>The battery life is longer then 5 hours.\\r\\r\\n...</td>\n",
       "      <td>Battery lasts about 5 hours.\\r\\r\\nTime is shor...</td>\n",
       "      <td>battery-life is fantastic and good.\\r\\r\\nThe 6...</td>\n",
       "      <td>Battery lasts about 5 hours.\\r\\r\\nTime is shor...</td>\n",
       "      <td>Battery lasts about 5 hours.\\r\\r\\nTime is shor...</td>\n",
       "    </tr>\n",
       "    <tr>\n",
       "      <th>5</th>\n",
       "      <td>I thought it would be fitting to christen my K...</td>\n",
       "      <td>buttons_amazon_kindle</td>\n",
       "      <td>It is not user friendly and the buttons are no...</td>\n",
       "      <td>The buttons are well placed, but can be hard t...</td>\n",
       "      <td>Magical five way button.\\r\\r\\nNext page button...</td>\n",
       "      <td>New buttons are easy to use and effective.\\r\\r...</td>\n",
       "      <td>NaN</td>\n",
       "    </tr>\n",
       "    <tr>\n",
       "      <th>6</th>\n",
       "      <td>Drivers seat not comfortable, the car itself ...</td>\n",
       "      <td>comfort_honda_accord_2008</td>\n",
       "      <td>The 2008 honda accord has an extremely uncomfo...</td>\n",
       "      <td>The driving position and the leather seats are...</td>\n",
       "      <td>Comfort is ok, but the front seats are too fir...</td>\n",
       "      <td>The front seats are uncomfortable.\\r\\r\\nThe co...</td>\n",
       "      <td>The seats are not comfortable as many other ca...</td>\n",
       "    </tr>\n",
       "    <tr>\n",
       "      <th>7</th>\n",
       "      <td>Ride seems comfortable and gas mileage fairly...</td>\n",
       "      <td>comfort_toyota_camry_2007</td>\n",
       "      <td>The Camry offers interior comfort, while provi...</td>\n",
       "      <td>Overall very comfortable ride front and back.\\...</td>\n",
       "      <td>Overall very comfortable ride front and back.\\...</td>\n",
       "      <td>Its very comfortable for long trips.</td>\n",
       "      <td>Its very comfortable and a quiet ride with low...</td>\n",
       "    </tr>\n",
       "    <tr>\n",
       "      <th>8</th>\n",
       "      <td>You also get upscale features like spoken dir...</td>\n",
       "      <td>directions_garmin_nuvi_255W_gps</td>\n",
       "      <td>The voice directions are good, it sometime wro...</td>\n",
       "      <td>The voice directions are good, it sometime wro...</td>\n",
       "      <td>Directions are usually accurate and easy to un...</td>\n",
       "      <td>Directions are accurate, easy to see and under...</td>\n",
       "      <td>Turn-by-turn directions are accurate.\\r\\r\\nDir...</td>\n",
       "    </tr>\n",
       "    <tr>\n",
       "      <th>9</th>\n",
       "      <td>3 quot  widescreen display was a bonus .\\r\\r\\n...</td>\n",
       "      <td>display_garmin_nuvi_255W_gps</td>\n",
       "      <td>Display is wide and clear.\\r\\r\\nDisplay can ea...</td>\n",
       "      <td>The new screen is large, clear, and bright.\\r\\...</td>\n",
       "      <td>The wide display of the 225 is very good.\\r\\r\\...</td>\n",
       "      <td>The display is bright, clear, and smooth.\\r\\r\\...</td>\n",
       "      <td>Display is wide, laid out nice, and is very cl...</td>\n",
       "    </tr>\n",
       "    <tr>\n",
       "      <th>10</th>\n",
       "      <td>It feels as easy to read as the K1 but doesn'...</td>\n",
       "      <td>eyesight-issues_amazon_kindle</td>\n",
       "      <td>Most users do not encounter eyestrain.\\r\\r\\nTh...</td>\n",
       "      <td>Most users do not encounter eyestrain.\\r\\r\\nTh...</td>\n",
       "      <td>Its very soothing for the eyes.</td>\n",
       "      <td>E-ink makes it very easy on the eyes.\\r\\r\\nAll...</td>\n",
       "      <td>Very easy on the eyes.\\r\\r\\nNo fatigue or stra...</td>\n",
       "    </tr>\n",
       "    <tr>\n",
       "      <th>11</th>\n",
       "      <td>I had to uninstall anti, virus and selected o...</td>\n",
       "      <td>features_windows7</td>\n",
       "      <td>Has a lot of great little features that seem t...</td>\n",
       "      <td>Good new features but similar to Mac OS.</td>\n",
       "      <td>Good new features but similar to Mac OS.</td>\n",
       "      <td>Window7 has many new features which make the P...</td>\n",
       "      <td>NaN</td>\n",
       "    </tr>\n",
       "    <tr>\n",
       "      <th>12</th>\n",
       "      <td>Being able to change the font sizes is awesome...</td>\n",
       "      <td>fonts_amazon_kindle</td>\n",
       "      <td>Font size is easily adjusted depending on your...</td>\n",
       "      <td>Varying font size.\\r\\r\\nClear and adjustable f...</td>\n",
       "      <td>The font is clear and adjustable in size.\\r\\r\\...</td>\n",
       "      <td>Adjustable font makes reading easy and enjoyab...</td>\n",
       "      <td>NaN</td>\n",
       "    </tr>\n",
       "    <tr>\n",
       "      <th>13</th>\n",
       "      <td>The room was packed to capacity with queues a...</td>\n",
       "      <td>food_holiday_inn_london</td>\n",
       "      <td>Food was excellent with a wide range of choice...</td>\n",
       "      <td>Food can be a little bit overpriced, but is go...</td>\n",
       "      <td>The food in the hotel was a little over priced...</td>\n",
       "      <td>The food is good, the service great.\\r\\r\\nVery...</td>\n",
       "      <td>NaN</td>\n",
       "    </tr>\n",
       "    <tr>\n",
       "      <th>14</th>\n",
       "      <td>The food for our event was delicious .\\r\\r\\n ...</td>\n",
       "      <td>food_swissotel_chicago</td>\n",
       "      <td>The presentation was awesome and the food is g...</td>\n",
       "      <td>Overall, the food was good and reasonably pric...</td>\n",
       "      <td>Food was good quality.\\r\\r\\nFood was fresh and...</td>\n",
       "      <td>I just loved the food, it was very fresh and h...</td>\n",
       "      <td>The food was very good, better than average.</td>\n",
       "    </tr>\n",
       "    <tr>\n",
       "      <th>15</th>\n",
       "      <td>The wine reception is a great idea as it is ni...</td>\n",
       "      <td>free_bestwestern_hotel_sfo</td>\n",
       "      <td>There is free WiFi internet access available i...</td>\n",
       "      <td>Free parking provided unless using valet.\\r\\r\\...</td>\n",
       "      <td>Evening wine reception and free coffee in the ...</td>\n",
       "      <td>Evening wine reception and free coffee in the ...</td>\n",
       "      <td>Hotel offers free wine in the evening and coff...</td>\n",
       "    </tr>\n",
       "    <tr>\n",
       "      <th>16</th>\n",
       "      <td>Ride seems comfortable and gas mileage fairly...</td>\n",
       "      <td>gas_mileage_toyota_camry_2007</td>\n",
       "      <td>Gas mileage is below what is expected.</td>\n",
       "      <td>Gas mileage is below what is expected.</td>\n",
       "      <td>Gas mileage is good once car is broken in.</td>\n",
       "      <td>The gas mileage on the camry was not good as i...</td>\n",
       "      <td>The gas mileage on the camry was not good as i...</td>\n",
       "    </tr>\n",
       "    <tr>\n",
       "      <th>17</th>\n",
       "      <td>I love the new body style and the interior is...</td>\n",
       "      <td>interior_honda_accord_2008</td>\n",
       "      <td>The interior is confortable for short and long...</td>\n",
       "      <td>The interior is good and it has enough leg space.</td>\n",
       "      <td>The interior is good and it has enough leg space.</td>\n",
       "      <td>The interior is excellently crafted for what y...</td>\n",
       "      <td>Interior is comfortable and stylish.\\r\\r\\nDesi...</td>\n",
       "    </tr>\n",
       "    <tr>\n",
       "      <th>18</th>\n",
       "      <td>First of all, the interior has way too many c...</td>\n",
       "      <td>interior_toyota_camry_2007</td>\n",
       "      <td>The interior is roomy but too much hard plasti...</td>\n",
       "      <td>The interior is good and okay but it contain s...</td>\n",
       "      <td>The interior is roomy and comfortable.\\r\\r\\nTo...</td>\n",
       "      <td>The interior is roomy and comfortable.\\r\\r\\nTo...</td>\n",
       "      <td>Roomy interior, but it feels and looks cheap.\\...</td>\n",
       "    </tr>\n",
       "    <tr>\n",
       "      <th>19</th>\n",
       "      <td>,  I think the new keyboard rivals the great h...</td>\n",
       "      <td>keyboard_netbook_1005ha</td>\n",
       "      <td>They keyboard although small is comfortable.\\r...</td>\n",
       "      <td>Keyboard 92% the size of a standard computer.\\...</td>\n",
       "      <td>Its a small keyboard but terrific and easy to ...</td>\n",
       "      <td>The keyboard has a unique but functional layou...</td>\n",
       "      <td>The keyboard has a unique but functional layou...</td>\n",
       "    </tr>\n",
       "    <tr>\n",
       "      <th>20</th>\n",
       "      <td>Good Value good location ,  ideal choice .\\r\\r...</td>\n",
       "      <td>location_bestwestern_hotel_sfo</td>\n",
       "      <td>Hotel is located nicely in close proximity to ...</td>\n",
       "      <td>The location was excellent, two blocks from ma...</td>\n",
       "      <td>The Best Western in San Francisco is a decent,...</td>\n",
       "      <td>It's location is terrific, being near many att...</td>\n",
       "      <td>The hotel is in a great location, close to Fis...</td>\n",
       "    </tr>\n",
       "    <tr>\n",
       "      <th>21</th>\n",
       "      <td>Great location for tube and we crammed in a f...</td>\n",
       "      <td>location_holiday_inn_london</td>\n",
       "      <td>Location is excellent, very close to the Glouc...</td>\n",
       "      <td>The locations are excellent.\\r\\r\\nNice and clo...</td>\n",
       "      <td>The location is excellent.\\r\\r\\nThe hotel is v...</td>\n",
       "      <td>Excellent location.\\r\\r\\nNear the tube station.</td>\n",
       "      <td>NaN</td>\n",
       "    </tr>\n",
       "    <tr>\n",
       "      <th>22</th>\n",
       "      <td>It's quiet, get good gas mileage and looks cl...</td>\n",
       "      <td>mileage_honda_accord_2008</td>\n",
       "      <td>Gas Mileage tends to be disappointing versus e...</td>\n",
       "      <td>Gas mileage is good and effecient.\\r\\r\\nMileag...</td>\n",
       "      <td>The mileage is good which ultimately reduces t...</td>\n",
       "      <td>VCM helps the mileage. \\r\\r\\nDecent gas mileag...</td>\n",
       "      <td>The car gets extremely good gas mileage compar...</td>\n",
       "    </tr>\n",
       "    <tr>\n",
       "      <th>23</th>\n",
       "      <td>In fact, the entire navigation structure has ...</td>\n",
       "      <td>navigation_amazon_kindle</td>\n",
       "      <td>Navigation is quick and easy.\\r\\r\\nThe pages a...</td>\n",
       "      <td>New navigation system is fast and efficient.\\r...</td>\n",
       "      <td>Its very easy and fast to navigate.</td>\n",
       "      <td>You navigate the new Kindle using a 5 way cont...</td>\n",
       "      <td>NaN</td>\n",
       "    </tr>\n",
       "    <tr>\n",
       "      <th>24</th>\n",
       "      <td>Parking was expensive but I think this is com...</td>\n",
       "      <td>parking_bestwestern_hotel_sfo</td>\n",
       "      <td>Parking is expensive.\\r\\r\\nBest to get free pa...</td>\n",
       "      <td>The expensive price of parking is unacceptable...</td>\n",
       "      <td>Parking is very expensive.\\r\\r\\nHowever, valet...</td>\n",
       "      <td>While the Best Western in San Francisco offers...</td>\n",
       "      <td>NaN</td>\n",
       "    </tr>\n",
       "    <tr>\n",
       "      <th>25</th>\n",
       "      <td>Very happy with my 08 Accord, performance is q...</td>\n",
       "      <td>performance_honda_accord_2008</td>\n",
       "      <td>Adequate performance, nice looks, long distanc...</td>\n",
       "      <td>Great performance, especially for the price.</td>\n",
       "      <td>Great performance and handling.\\r\\r\\nPerforman...</td>\n",
       "      <td>High quality performance.\\r\\r\\nVery smooth and...</td>\n",
       "      <td>NaN</td>\n",
       "    </tr>\n",
       "    <tr>\n",
       "      <th>26</th>\n",
       "      <td>The Eee Super Hybrid Engine utility lets user...</td>\n",
       "      <td>performance_netbook_1005ha</td>\n",
       "      <td>Performance is great according to its small si...</td>\n",
       "      <td>Anti, malware software may degrade the perform...</td>\n",
       "      <td>Performance is very good.\\r\\r\\nSpeed is excell...</td>\n",
       "      <td>Battery life on high performance setting is gr...</td>\n",
       "      <td>The performance of the 1005HA is more than acc...</td>\n",
       "    </tr>\n",
       "    <tr>\n",
       "      <th>27</th>\n",
       "      <td>If a case was included, as with the Kindle 1,...</td>\n",
       "      <td>price_amazon_kindle</td>\n",
       "      <td>While the price of the Amazon Kindle 2 is high...</td>\n",
       "      <td>The Kindle is quite high priced, plus you have...</td>\n",
       "      <td>Price is expensive.\\r\\r\\nPrice is not worth th...</td>\n",
       "      <td>The device itself is a little pricey, but is w...</td>\n",
       "      <td>Kindle is expensive, but savings on titles may...</td>\n",
       "    </tr>\n",
       "    <tr>\n",
       "      <th>28</th>\n",
       "      <td>All in all, a normal chain hotel on a nice loc...</td>\n",
       "      <td>price_holiday_inn_london</td>\n",
       "      <td>The prices for the holiday inn, London, are ve...</td>\n",
       "      <td>The prices for the holiday inn, London, are ve...</td>\n",
       "      <td>Price was good.\\r\\r\\nBest prices on other webs...</td>\n",
       "      <td>The hotel price is good for the value received...</td>\n",
       "      <td>The price for the rooms are very reasonable.</td>\n",
       "    </tr>\n",
       "    <tr>\n",
       "      <th>29</th>\n",
       "      <td>I previously owned a Toyota 4Runner which had...</td>\n",
       "      <td>quality_toyota_camry_2007</td>\n",
       "      <td>A poor quality car based on expectations.\\r\\r\\...</td>\n",
       "      <td>The interior and exterior quality is disappoin...</td>\n",
       "      <td>The interior and exterior quality is disappoin...</td>\n",
       "      <td>Disappointed in the quality.</td>\n",
       "      <td>NaN</td>\n",
       "    </tr>\n",
       "    <tr>\n",
       "      <th>30</th>\n",
       "      <td>Great Location ,  Nice   Rooms ,  Helpless Con...</td>\n",
       "      <td>rooms_bestwestern_hotel_sfo</td>\n",
       "      <td>Good rooms but a little small.</td>\n",
       "      <td>The rooms were small.\\r\\r\\nThe rooms were clean.</td>\n",
       "      <td>Rooms were very clean and nicely decorated.\\r\\...</td>\n",
       "      <td>Rooms can be on the small side, but are nice, ...</td>\n",
       "      <td>Good, clean and tidy rooms and bathroom.\\r\\r\\n...</td>\n",
       "    </tr>\n",
       "    <tr>\n",
       "      <th>31</th>\n",
       "      <td>The Swissotel is one of our favorite hotels in...</td>\n",
       "      <td>rooms_swissotel_chicago</td>\n",
       "      <td>Rooms are nice, comfortable, clean, and well f...</td>\n",
       "      <td>The rooms were very neat and clean.</td>\n",
       "      <td>The rooms were somewhat dated but clean and sp...</td>\n",
       "      <td>The rooms are clean, large and comfortable.\\r\\...</td>\n",
       "      <td>NaN</td>\n",
       "    </tr>\n",
       "    <tr>\n",
       "      <th>32</th>\n",
       "      <td>We arrived at 23,30 hours and they could not r...</td>\n",
       "      <td>room_holiday_inn_london</td>\n",
       "      <td>Room was well maintained and reasonable priced...</td>\n",
       "      <td>The rooms are small but adequate and clean. \\r...</td>\n",
       "      <td>Rooms were clean but size was a problem.</td>\n",
       "      <td>The room was comfortable, well lighted, and we...</td>\n",
       "      <td>NaN</td>\n",
       "    </tr>\n",
       "    <tr>\n",
       "      <th>33</th>\n",
       "      <td>It's fast to acquire satellites .\\r\\r\\n If yo...</td>\n",
       "      <td>satellite_garmin_nuvi_255W_gps</td>\n",
       "      <td>Acquiring satellites is very fast.\\r\\r\\nRecalc...</td>\n",
       "      <td>Acquires satellites very quickly.\\r\\r\\nRecalcu...</td>\n",
       "      <td>Usually finds satellites very quickly.</td>\n",
       "      <td>Time for acquiring satellites is short and qui...</td>\n",
       "      <td>Connects to satellites extremely fast.\\r\\r\\nRe...</td>\n",
       "    </tr>\n",
       "    <tr>\n",
       "      <th>34</th>\n",
       "      <td>It is easy to read and when touching the scr...</td>\n",
       "      <td>screen_garmin_nuvi_255W_gps</td>\n",
       "      <td>The screen is big, crystal clear and easy to r...</td>\n",
       "      <td>Screen is easy to read with an intuitive layou...</td>\n",
       "      <td>Screen has many automatic features, such as th...</td>\n",
       "      <td>Screen is wide and clear, street names easy to...</td>\n",
       "      <td>Screen is large and bright.\\r\\r\\nHard to see i...</td>\n",
       "    </tr>\n",
       "    <tr>\n",
       "      <th>35</th>\n",
       "      <td>As always, the video screen is sharp and brig...</td>\n",
       "      <td>screen_ipod_nano_8gb</td>\n",
       "      <td>Screen is flexible.\\r\\r\\nBig screen and nice i...</td>\n",
       "      <td>The screen is large and bright.\\r\\r\\nIt is eas...</td>\n",
       "      <td>The new, larger screen is clear and bright.\\r\\...</td>\n",
       "      <td>The video screen is sharp, bright, clear, and ...</td>\n",
       "      <td>NaN</td>\n",
       "    </tr>\n",
       "    <tr>\n",
       "      <th>36</th>\n",
       "      <td>Keep in mind that once you get in a room full...</td>\n",
       "      <td>screen_netbook_1005ha</td>\n",
       "      <td>Screen is clear and bright.\\r\\r\\nHowever, the ...</td>\n",
       "      <td>Although the screen is small, it's sharp, brig...</td>\n",
       "      <td>The screen is sharp, bright but small sized.</td>\n",
       "      <td>Screen quality is up to par.\\r\\r\\nA common bug...</td>\n",
       "      <td>NaN</td>\n",
       "    </tr>\n",
       "    <tr>\n",
       "      <th>37</th>\n",
       "      <td>Front seats are very uncomfortable .\\r\\r\\n No...</td>\n",
       "      <td>seats_honda_accord_2008</td>\n",
       "      <td>The front seats are small, uncomfortable and n...</td>\n",
       "      <td>Seats have smooth and comfortable fabric.\\r\\r\\...</td>\n",
       "      <td>The front seats can be very uncomfortable, esp...</td>\n",
       "      <td>For those who like firm and hard seats, the 20...</td>\n",
       "      <td>The seats are adequately comfortable, but a li...</td>\n",
       "    </tr>\n",
       "    <tr>\n",
       "      <th>38</th>\n",
       "      <td>Both of us having worked in tourism for over ...</td>\n",
       "      <td>service_bestwestern_hotel_sfo</td>\n",
       "      <td>Service was fast and helpful in most cases.\\r\\...</td>\n",
       "      <td>The service is good and the staff is very help...</td>\n",
       "      <td>Housekeeping service is superb.\\r\\r\\nConcierge...</td>\n",
       "      <td>This hotel is good value for money.\\r\\r\\nThe s...</td>\n",
       "      <td>The service is quick and to the point, causing...</td>\n",
       "    </tr>\n",
       "    <tr>\n",
       "      <th>39</th>\n",
       "      <td>not customer, oriented hotelvery low service l...</td>\n",
       "      <td>service_holiday_inn_london</td>\n",
       "      <td>Service can be friendly, but is impersonal and...</td>\n",
       "      <td>Overall, the service was poor.\\r\\r\\nThe staff ...</td>\n",
       "      <td>Good service, sometimes slow and not very frie...</td>\n",
       "      <td>Service was not the best.\\r\\r\\nStaff could be ...</td>\n",
       "      <td>NaN</td>\n",
       "    </tr>\n",
       "    <tr>\n",
       "      <th>40</th>\n",
       "      <td>Mediocre room and service for a very extravag...</td>\n",
       "      <td>service_swissotel_hotel_chicago</td>\n",
       "      <td>Outstanding room service and a great hotel but...</td>\n",
       "      <td>Service is good, but slightly lacking when you...</td>\n",
       "      <td>Friendly service at front desk.\\r\\r\\nExpensive...</td>\n",
       "      <td>Service very expensive.\\r\\r\\nStaff are usually...</td>\n",
       "      <td>NaN</td>\n",
       "    </tr>\n",
       "    <tr>\n",
       "      <th>41</th>\n",
       "      <td>A few other things I'd like to point out is t...</td>\n",
       "      <td>size_asus_netbook_1005ha</td>\n",
       "      <td>The size is great and allows for excellent por...</td>\n",
       "      <td>Size is small and manageable.\\r\\r\\nPerfect siz...</td>\n",
       "      <td>The keyboard is a decent size, a bit smaller t...</td>\n",
       "      <td>In spite of being small it is still comfortabl...</td>\n",
       "      <td>lightweight and portable, the smaller sized ke...</td>\n",
       "    </tr>\n",
       "    <tr>\n",
       "      <th>42</th>\n",
       "      <td>headphone jack i got a clear case for it and ...</td>\n",
       "      <td>sound_ipod_nano_8gb</td>\n",
       "      <td>The sound quality is very good.\\r\\r\\nYou don't...</td>\n",
       "      <td>Sound quality is excellent.\\r\\r\\nQuality impro...</td>\n",
       "      <td>Good sound quality.</td>\n",
       "      <td>excellent sound quality.\\r\\r\\nNo way to balanc...</td>\n",
       "      <td>Great sound quality, lots of equalizer settings.</td>\n",
       "    </tr>\n",
       "    <tr>\n",
       "      <th>43</th>\n",
       "      <td>Another feature on the 255w is a display of th...</td>\n",
       "      <td>speed_garmin_nuvi_255W_gps</td>\n",
       "      <td>Map and tracking speed is fast and convenient....</td>\n",
       "      <td>Shows both speed limit and current speed.\\r\\r\\...</td>\n",
       "      <td>The speedometer is accurate and refreshes fast...</td>\n",
       "      <td>Map and tracking speed is fast and convenient....</td>\n",
       "      <td>Indicates posted speed limits of the road you ...</td>\n",
       "    </tr>\n",
       "    <tr>\n",
       "      <th>44</th>\n",
       "      <td>Windows 7 is quite simply faster, more stable,...</td>\n",
       "      <td>speed_windows7</td>\n",
       "      <td>Windows 7 can maintain the processor speed wit...</td>\n",
       "      <td>Windows 7 is faster than XP and Vista.\\r\\r\\nIt...</td>\n",
       "      <td>Speed of Windows 7 is faster then any previous...</td>\n",
       "      <td>Windows 7 is a vastly improved Windows operati...</td>\n",
       "      <td>Windows 7 is faster and the best thing is it s...</td>\n",
       "    </tr>\n",
       "    <tr>\n",
       "      <th>45</th>\n",
       "      <td>Staff are friendly and helpful   .\\r\\r\\n The ...</td>\n",
       "      <td>staff_bestwestern_hotel_sfo</td>\n",
       "      <td>The staff was friendly.</td>\n",
       "      <td>Staff is generally friendly, helpful, and eage...</td>\n",
       "      <td>The staff was very helpful and gave a warm wel...</td>\n",
       "      <td>The staff is friendly and knowledgeable.\\r\\r\\n...</td>\n",
       "      <td>Staff are helpful and friendly.\\r\\r\\nStaff are...</td>\n",
       "    </tr>\n",
       "    <tr>\n",
       "      <th>46</th>\n",
       "      <td>The staff at Swissotel were not particularly ...</td>\n",
       "      <td>staff_swissotel_chicago</td>\n",
       "      <td>Staff are kind and helpful.\\r\\r\\nThey are both...</td>\n",
       "      <td>The staff was very cooperative and courteous.</td>\n",
       "      <td>Staff was professional.\\r\\r\\nFront desk staff ...</td>\n",
       "      <td>Some staff members can be unprofessional.\\r\\r\\...</td>\n",
       "      <td>The service is friendly and well trained.\\r\\r\\...</td>\n",
       "    </tr>\n",
       "    <tr>\n",
       "      <th>47</th>\n",
       "      <td>After slowing down, transmission has to be  k...</td>\n",
       "      <td>transmission_toyota_camry_2007</td>\n",
       "      <td>Transmission is not as good as it was expected...</td>\n",
       "      <td>The transmission design has major problems and...</td>\n",
       "      <td>Transmission is rough when shifting.\\r\\r\\nThe ...</td>\n",
       "      <td>The transmission is terrible.\\r\\r\\nIt hesitate...</td>\n",
       "      <td>The transmission has some problems.\\r\\r\\nIt ca...</td>\n",
       "    </tr>\n",
       "    <tr>\n",
       "      <th>48</th>\n",
       "      <td>Another thing to consider was that I paid $50 ...</td>\n",
       "      <td>updates_garmin_nuvi_255W_gps</td>\n",
       "      <td>Updates and rerouting are much quicker than ot...</td>\n",
       "      <td>Updates very quickly.\\r\\r\\nFree update map.\\r\\...</td>\n",
       "      <td>The maps are fairly updated.\\r\\r\\nSpeed of map...</td>\n",
       "      <td>NaN</td>\n",
       "      <td>NaN</td>\n",
       "    </tr>\n",
       "    <tr>\n",
       "      <th>49</th>\n",
       "      <td>I bought the 8, gig Ipod Nano that has the bui...</td>\n",
       "      <td>video_ipod_nano_8gb</td>\n",
       "      <td>Video camera is great.\\r\\r\\nVery easy to use.\\...</td>\n",
       "      <td>The video screen is very bright.</td>\n",
       "      <td>The video for Ipod nano 8GB is a great additio...</td>\n",
       "      <td>The new Ipod nano which comes with a video cam...</td>\n",
       "      <td>The iPod takes and displays quality video.\\r\\r...</td>\n",
       "    </tr>\n",
       "    <tr>\n",
       "      <th>50</th>\n",
       "      <td>The voice prompts and maps are wonderful esp...</td>\n",
       "      <td>voice_garmin_nuvi_255W_gps</td>\n",
       "      <td>The voice is a bit robotic.\\r\\r\\nThe voice is ...</td>\n",
       "      <td>The voices sound robotic.\\r\\r\\nTTS mode is the...</td>\n",
       "      <td>255W garmin gps has more than 750 voices but t...</td>\n",
       "      <td>Voice is clear and sweet.\\r\\r\\nVoice commands ...</td>\n",
       "      <td>The voice is very clear and loud.</td>\n",
       "    </tr>\n",
       "  </tbody>\n",
       "</table>\n",
       "</div>"
      ],
      "text/plain": [
       "                                                 text  \\\n",
       "0   , and is very, very accurate .\\r\\r\\n but for t...   \n",
       "1    The room was not overly big, but clean and ve...   \n",
       "2    After I plugged it in to my USB hub on my com...   \n",
       "3    short battery life  I moved up from an 8gb .\\...   \n",
       "4   6GHz 533FSB cpu, glossy display, 3, Cell 23Wh ...   \n",
       "5   I thought it would be fitting to christen my K...   \n",
       "6    Drivers seat not comfortable, the car itself ...   \n",
       "7    Ride seems comfortable and gas mileage fairly...   \n",
       "8    You also get upscale features like spoken dir...   \n",
       "9   3 quot  widescreen display was a bonus .\\r\\r\\n...   \n",
       "10   It feels as easy to read as the K1 but doesn'...   \n",
       "11   I had to uninstall anti, virus and selected o...   \n",
       "12  Being able to change the font sizes is awesome...   \n",
       "13   The room was packed to capacity with queues a...   \n",
       "14   The food for our event was delicious .\\r\\r\\n ...   \n",
       "15  The wine reception is a great idea as it is ni...   \n",
       "16   Ride seems comfortable and gas mileage fairly...   \n",
       "17   I love the new body style and the interior is...   \n",
       "18   First of all, the interior has way too many c...   \n",
       "19  ,  I think the new keyboard rivals the great h...   \n",
       "20  Good Value good location ,  ideal choice .\\r\\r...   \n",
       "21   Great location for tube and we crammed in a f...   \n",
       "22   It's quiet, get good gas mileage and looks cl...   \n",
       "23   In fact, the entire navigation structure has ...   \n",
       "24   Parking was expensive but I think this is com...   \n",
       "25  Very happy with my 08 Accord, performance is q...   \n",
       "26   The Eee Super Hybrid Engine utility lets user...   \n",
       "27   If a case was included, as with the Kindle 1,...   \n",
       "28  All in all, a normal chain hotel on a nice loc...   \n",
       "29   I previously owned a Toyota 4Runner which had...   \n",
       "30  Great Location ,  Nice   Rooms ,  Helpless Con...   \n",
       "31  The Swissotel is one of our favorite hotels in...   \n",
       "32  We arrived at 23,30 hours and they could not r...   \n",
       "33   It's fast to acquire satellites .\\r\\r\\n If yo...   \n",
       "34    It is easy to read and when touching the scr...   \n",
       "35   As always, the video screen is sharp and brig...   \n",
       "36   Keep in mind that once you get in a room full...   \n",
       "37   Front seats are very uncomfortable .\\r\\r\\n No...   \n",
       "38   Both of us having worked in tourism for over ...   \n",
       "39  not customer, oriented hotelvery low service l...   \n",
       "40   Mediocre room and service for a very extravag...   \n",
       "41   A few other things I'd like to point out is t...   \n",
       "42   headphone jack i got a clear case for it and ...   \n",
       "43  Another feature on the 255w is a display of th...   \n",
       "44  Windows 7 is quite simply faster, more stable,...   \n",
       "45   Staff are friendly and helpful   .\\r\\r\\n The ...   \n",
       "46   The staff at Swissotel were not particularly ...   \n",
       "47   After slowing down, transmission has to be  k...   \n",
       "48  Another thing to consider was that I paid $50 ...   \n",
       "49  I bought the 8, gig Ipod Nano that has the bui...   \n",
       "50    The voice prompts and maps are wonderful esp...   \n",
       "\n",
       "                             topics  \\\n",
       "0     accuracy_garmin_nuvi_255W_gps   \n",
       "1    bathroom_bestwestern_hotel_sfo   \n",
       "2        battery-life_amazon_kindle   \n",
       "3        battery-life_ipod_nano_8gb   \n",
       "4       battery-life_netbook_1005ha   \n",
       "5             buttons_amazon_kindle   \n",
       "6         comfort_honda_accord_2008   \n",
       "7         comfort_toyota_camry_2007   \n",
       "8   directions_garmin_nuvi_255W_gps   \n",
       "9      display_garmin_nuvi_255W_gps   \n",
       "10    eyesight-issues_amazon_kindle   \n",
       "11                features_windows7   \n",
       "12              fonts_amazon_kindle   \n",
       "13          food_holiday_inn_london   \n",
       "14           food_swissotel_chicago   \n",
       "15       free_bestwestern_hotel_sfo   \n",
       "16    gas_mileage_toyota_camry_2007   \n",
       "17       interior_honda_accord_2008   \n",
       "18       interior_toyota_camry_2007   \n",
       "19          keyboard_netbook_1005ha   \n",
       "20   location_bestwestern_hotel_sfo   \n",
       "21      location_holiday_inn_london   \n",
       "22        mileage_honda_accord_2008   \n",
       "23         navigation_amazon_kindle   \n",
       "24    parking_bestwestern_hotel_sfo   \n",
       "25    performance_honda_accord_2008   \n",
       "26       performance_netbook_1005ha   \n",
       "27              price_amazon_kindle   \n",
       "28         price_holiday_inn_london   \n",
       "29        quality_toyota_camry_2007   \n",
       "30      rooms_bestwestern_hotel_sfo   \n",
       "31          rooms_swissotel_chicago   \n",
       "32          room_holiday_inn_london   \n",
       "33   satellite_garmin_nuvi_255W_gps   \n",
       "34      screen_garmin_nuvi_255W_gps   \n",
       "35             screen_ipod_nano_8gb   \n",
       "36            screen_netbook_1005ha   \n",
       "37          seats_honda_accord_2008   \n",
       "38    service_bestwestern_hotel_sfo   \n",
       "39       service_holiday_inn_london   \n",
       "40  service_swissotel_hotel_chicago   \n",
       "41         size_asus_netbook_1005ha   \n",
       "42              sound_ipod_nano_8gb   \n",
       "43       speed_garmin_nuvi_255W_gps   \n",
       "44                   speed_windows7   \n",
       "45      staff_bestwestern_hotel_sfo   \n",
       "46          staff_swissotel_chicago   \n",
       "47   transmission_toyota_camry_2007   \n",
       "48     updates_garmin_nuvi_255W_gps   \n",
       "49              video_ipod_nano_8gb   \n",
       "50       voice_garmin_nuvi_255W_gps   \n",
       "\n",
       "                                     summary_number_1  \\\n",
       "0   This unit is generally quite accurate.  \\r\\r\\n...   \n",
       "1   The rooms were not large but were clean and ve...   \n",
       "2   Battery life is exceptional.\\r\\r\\nThe Kindle c...   \n",
       "3   The battery life is too short.\\r\\r\\nThe time b...   \n",
       "4   The battery life is longer then 5 hours.\\r\\r\\n...   \n",
       "5   It is not user friendly and the buttons are no...   \n",
       "6   The 2008 honda accord has an extremely uncomfo...   \n",
       "7   The Camry offers interior comfort, while provi...   \n",
       "8   The voice directions are good, it sometime wro...   \n",
       "9   Display is wide and clear.\\r\\r\\nDisplay can ea...   \n",
       "10  Most users do not encounter eyestrain.\\r\\r\\nTh...   \n",
       "11  Has a lot of great little features that seem t...   \n",
       "12  Font size is easily adjusted depending on your...   \n",
       "13  Food was excellent with a wide range of choice...   \n",
       "14  The presentation was awesome and the food is g...   \n",
       "15  There is free WiFi internet access available i...   \n",
       "16             Gas mileage is below what is expected.   \n",
       "17  The interior is confortable for short and long...   \n",
       "18  The interior is roomy but too much hard plasti...   \n",
       "19  They keyboard although small is comfortable.\\r...   \n",
       "20  Hotel is located nicely in close proximity to ...   \n",
       "21  Location is excellent, very close to the Glouc...   \n",
       "22  Gas Mileage tends to be disappointing versus e...   \n",
       "23  Navigation is quick and easy.\\r\\r\\nThe pages a...   \n",
       "24  Parking is expensive.\\r\\r\\nBest to get free pa...   \n",
       "25  Adequate performance, nice looks, long distanc...   \n",
       "26  Performance is great according to its small si...   \n",
       "27  While the price of the Amazon Kindle 2 is high...   \n",
       "28  The prices for the holiday inn, London, are ve...   \n",
       "29  A poor quality car based on expectations.\\r\\r\\...   \n",
       "30                     Good rooms but a little small.   \n",
       "31  Rooms are nice, comfortable, clean, and well f...   \n",
       "32  Room was well maintained and reasonable priced...   \n",
       "33  Acquiring satellites is very fast.\\r\\r\\nRecalc...   \n",
       "34  The screen is big, crystal clear and easy to r...   \n",
       "35  Screen is flexible.\\r\\r\\nBig screen and nice i...   \n",
       "36  Screen is clear and bright.\\r\\r\\nHowever, the ...   \n",
       "37  The front seats are small, uncomfortable and n...   \n",
       "38  Service was fast and helpful in most cases.\\r\\...   \n",
       "39  Service can be friendly, but is impersonal and...   \n",
       "40  Outstanding room service and a great hotel but...   \n",
       "41  The size is great and allows for excellent por...   \n",
       "42  The sound quality is very good.\\r\\r\\nYou don't...   \n",
       "43  Map and tracking speed is fast and convenient....   \n",
       "44  Windows 7 can maintain the processor speed wit...   \n",
       "45                            The staff was friendly.   \n",
       "46  Staff are kind and helpful.\\r\\r\\nThey are both...   \n",
       "47  Transmission is not as good as it was expected...   \n",
       "48  Updates and rerouting are much quicker than ot...   \n",
       "49  Video camera is great.\\r\\r\\nVery easy to use.\\...   \n",
       "50  The voice is a bit robotic.\\r\\r\\nThe voice is ...   \n",
       "\n",
       "                                     summary_number_2  \\\n",
       "0   The Garmin seems to be generally very accurate...   \n",
       "1   Rooms are not big, but clean and with comforta...   \n",
       "2   Battery life is exceptional.\\r\\r\\nThe Kindle c...   \n",
       "3   The battery life of the ipod nano is very shor...   \n",
       "4   Battery lasts about 5 hours.\\r\\r\\nTime is shor...   \n",
       "5   The buttons are well placed, but can be hard t...   \n",
       "6   The driving position and the leather seats are...   \n",
       "7   Overall very comfortable ride front and back.\\...   \n",
       "8   The voice directions are good, it sometime wro...   \n",
       "9   The new screen is large, clear, and bright.\\r\\...   \n",
       "10  Most users do not encounter eyestrain.\\r\\r\\nTh...   \n",
       "11           Good new features but similar to Mac OS.   \n",
       "12  Varying font size.\\r\\r\\nClear and adjustable f...   \n",
       "13  Food can be a little bit overpriced, but is go...   \n",
       "14  Overall, the food was good and reasonably pric...   \n",
       "15  Free parking provided unless using valet.\\r\\r\\...   \n",
       "16             Gas mileage is below what is expected.   \n",
       "17  The interior is good and it has enough leg space.   \n",
       "18  The interior is good and okay but it contain s...   \n",
       "19  Keyboard 92% the size of a standard computer.\\...   \n",
       "20  The location was excellent, two blocks from ma...   \n",
       "21  The locations are excellent.\\r\\r\\nNice and clo...   \n",
       "22  Gas mileage is good and effecient.\\r\\r\\nMileag...   \n",
       "23  New navigation system is fast and efficient.\\r...   \n",
       "24  The expensive price of parking is unacceptable...   \n",
       "25       Great performance, especially for the price.   \n",
       "26  Anti, malware software may degrade the perform...   \n",
       "27  The Kindle is quite high priced, plus you have...   \n",
       "28  The prices for the holiday inn, London, are ve...   \n",
       "29  The interior and exterior quality is disappoin...   \n",
       "30   The rooms were small.\\r\\r\\nThe rooms were clean.   \n",
       "31                The rooms were very neat and clean.   \n",
       "32  The rooms are small but adequate and clean. \\r...   \n",
       "33  Acquires satellites very quickly.\\r\\r\\nRecalcu...   \n",
       "34  Screen is easy to read with an intuitive layou...   \n",
       "35  The screen is large and bright.\\r\\r\\nIt is eas...   \n",
       "36  Although the screen is small, it's sharp, brig...   \n",
       "37  Seats have smooth and comfortable fabric.\\r\\r\\...   \n",
       "38  The service is good and the staff is very help...   \n",
       "39  Overall, the service was poor.\\r\\r\\nThe staff ...   \n",
       "40  Service is good, but slightly lacking when you...   \n",
       "41  Size is small and manageable.\\r\\r\\nPerfect siz...   \n",
       "42  Sound quality is excellent.\\r\\r\\nQuality impro...   \n",
       "43  Shows both speed limit and current speed.\\r\\r\\...   \n",
       "44  Windows 7 is faster than XP and Vista.\\r\\r\\nIt...   \n",
       "45  Staff is generally friendly, helpful, and eage...   \n",
       "46      The staff was very cooperative and courteous.   \n",
       "47  The transmission design has major problems and...   \n",
       "48  Updates very quickly.\\r\\r\\nFree update map.\\r\\...   \n",
       "49                   The video screen is very bright.   \n",
       "50  The voices sound robotic.\\r\\r\\nTTS mode is the...   \n",
       "\n",
       "                                     summary_number_3  \\\n",
       "0   It is very accurate, even in destination time....   \n",
       "1   Bathrooms are satisfactory. \\r\\r\\nThe rooms ar...   \n",
       "2   It can be a very difficult process when trying...   \n",
       "3   The battery life of the Ipod Nano 8GB is far t...   \n",
       "4   battery-life is fantastic and good.\\r\\r\\nThe 6...   \n",
       "5   Magical five way button.\\r\\r\\nNext page button...   \n",
       "6   Comfort is ok, but the front seats are too fir...   \n",
       "7   Overall very comfortable ride front and back.\\...   \n",
       "8   Directions are usually accurate and easy to un...   \n",
       "9   The wide display of the 225 is very good.\\r\\r\\...   \n",
       "10                    Its very soothing for the eyes.   \n",
       "11           Good new features but similar to Mac OS.   \n",
       "12  The font is clear and adjustable in size.\\r\\r\\...   \n",
       "13  The food in the hotel was a little over priced...   \n",
       "14  Food was good quality.\\r\\r\\nFood was fresh and...   \n",
       "15  Evening wine reception and free coffee in the ...   \n",
       "16         Gas mileage is good once car is broken in.   \n",
       "17  The interior is good and it has enough leg space.   \n",
       "18  The interior is roomy and comfortable.\\r\\r\\nTo...   \n",
       "19  Its a small keyboard but terrific and easy to ...   \n",
       "20  The Best Western in San Francisco is a decent,...   \n",
       "21  The location is excellent.\\r\\r\\nThe hotel is v...   \n",
       "22  The mileage is good which ultimately reduces t...   \n",
       "23                Its very easy and fast to navigate.   \n",
       "24  Parking is very expensive.\\r\\r\\nHowever, valet...   \n",
       "25  Great performance and handling.\\r\\r\\nPerforman...   \n",
       "26  Performance is very good.\\r\\r\\nSpeed is excell...   \n",
       "27  Price is expensive.\\r\\r\\nPrice is not worth th...   \n",
       "28  Price was good.\\r\\r\\nBest prices on other webs...   \n",
       "29  The interior and exterior quality is disappoin...   \n",
       "30  Rooms were very clean and nicely decorated.\\r\\...   \n",
       "31  The rooms were somewhat dated but clean and sp...   \n",
       "32          Rooms were clean but size was a problem.    \n",
       "33             Usually finds satellites very quickly.   \n",
       "34  Screen has many automatic features, such as th...   \n",
       "35  The new, larger screen is clear and bright.\\r\\...   \n",
       "36       The screen is sharp, bright but small sized.   \n",
       "37  The front seats can be very uncomfortable, esp...   \n",
       "38  Housekeeping service is superb.\\r\\r\\nConcierge...   \n",
       "39  Good service, sometimes slow and not very frie...   \n",
       "40  Friendly service at front desk.\\r\\r\\nExpensive...   \n",
       "41  The keyboard is a decent size, a bit smaller t...   \n",
       "42                                Good sound quality.   \n",
       "43  The speedometer is accurate and refreshes fast...   \n",
       "44  Speed of Windows 7 is faster then any previous...   \n",
       "45  The staff was very helpful and gave a warm wel...   \n",
       "46  Staff was professional.\\r\\r\\nFront desk staff ...   \n",
       "47  Transmission is rough when shifting.\\r\\r\\nThe ...   \n",
       "48  The maps are fairly updated.\\r\\r\\nSpeed of map...   \n",
       "49  The video for Ipod nano 8GB is a great additio...   \n",
       "50  255W garmin gps has more than 750 voices but t...   \n",
       "\n",
       "                                     summary_number_4  \\\n",
       "0   Very accurate with travel and destination time...   \n",
       "1   Bathrooms are mostly adequate sized and clean ...   \n",
       "2   The battery life of the Kindle is very long.\\r...   \n",
       "3   Battery life is very short, especially when yo...   \n",
       "4   Battery lasts about 5 hours.\\r\\r\\nTime is shor...   \n",
       "5   New buttons are easy to use and effective.\\r\\r...   \n",
       "6   The front seats are uncomfortable.\\r\\r\\nThe co...   \n",
       "7                Its very comfortable for long trips.   \n",
       "8   Directions are accurate, easy to see and under...   \n",
       "9   The display is bright, clear, and smooth.\\r\\r\\...   \n",
       "10  E-ink makes it very easy on the eyes.\\r\\r\\nAll...   \n",
       "11  Window7 has many new features which make the P...   \n",
       "12  Adjustable font makes reading easy and enjoyab...   \n",
       "13  The food is good, the service great.\\r\\r\\nVery...   \n",
       "14  I just loved the food, it was very fresh and h...   \n",
       "15  Evening wine reception and free coffee in the ...   \n",
       "16  The gas mileage on the camry was not good as i...   \n",
       "17  The interior is excellently crafted for what y...   \n",
       "18  The interior is roomy and comfortable.\\r\\r\\nTo...   \n",
       "19  The keyboard has a unique but functional layou...   \n",
       "20  It's location is terrific, being near many att...   \n",
       "21    Excellent location.\\r\\r\\nNear the tube station.   \n",
       "22  VCM helps the mileage. \\r\\r\\nDecent gas mileag...   \n",
       "23  You navigate the new Kindle using a 5 way cont...   \n",
       "24  While the Best Western in San Francisco offers...   \n",
       "25  High quality performance.\\r\\r\\nVery smooth and...   \n",
       "26  Battery life on high performance setting is gr...   \n",
       "27  The device itself is a little pricey, but is w...   \n",
       "28  The hotel price is good for the value received...   \n",
       "29                       Disappointed in the quality.   \n",
       "30  Rooms can be on the small side, but are nice, ...   \n",
       "31  The rooms are clean, large and comfortable.\\r\\...   \n",
       "32  The room was comfortable, well lighted, and we...   \n",
       "33  Time for acquiring satellites is short and qui...   \n",
       "34  Screen is wide and clear, street names easy to...   \n",
       "35  The video screen is sharp, bright, clear, and ...   \n",
       "36  Screen quality is up to par.\\r\\r\\nA common bug...   \n",
       "37  For those who like firm and hard seats, the 20...   \n",
       "38  This hotel is good value for money.\\r\\r\\nThe s...   \n",
       "39  Service was not the best.\\r\\r\\nStaff could be ...   \n",
       "40  Service very expensive.\\r\\r\\nStaff are usually...   \n",
       "41  In spite of being small it is still comfortabl...   \n",
       "42  excellent sound quality.\\r\\r\\nNo way to balanc...   \n",
       "43  Map and tracking speed is fast and convenient....   \n",
       "44  Windows 7 is a vastly improved Windows operati...   \n",
       "45  The staff is friendly and knowledgeable.\\r\\r\\n...   \n",
       "46  Some staff members can be unprofessional.\\r\\r\\...   \n",
       "47  The transmission is terrible.\\r\\r\\nIt hesitate...   \n",
       "48                                                NaN   \n",
       "49  The new Ipod nano which comes with a video cam...   \n",
       "50  Voice is clear and sweet.\\r\\r\\nVoice commands ...   \n",
       "\n",
       "                                     summary_number_5  \n",
       "0   Its accurate, fast and its simple operations m...  \n",
       "1   People were most impressesd with the bathrooms...  \n",
       "2   The battery life of the Kindle is very long.\\r...  \n",
       "3          Battery life short, especially for video.   \n",
       "4   Battery lasts about 5 hours.\\r\\r\\nTime is shor...  \n",
       "5                                                 NaN  \n",
       "6   The seats are not comfortable as many other ca...  \n",
       "7   Its very comfortable and a quiet ride with low...  \n",
       "8   Turn-by-turn directions are accurate.\\r\\r\\nDir...  \n",
       "9   Display is wide, laid out nice, and is very cl...  \n",
       "10  Very easy on the eyes.\\r\\r\\nNo fatigue or stra...  \n",
       "11                                                NaN  \n",
       "12                                                NaN  \n",
       "13                                                NaN  \n",
       "14       The food was very good, better than average.  \n",
       "15  Hotel offers free wine in the evening and coff...  \n",
       "16  The gas mileage on the camry was not good as i...  \n",
       "17  Interior is comfortable and stylish.\\r\\r\\nDesi...  \n",
       "18  Roomy interior, but it feels and looks cheap.\\...  \n",
       "19  The keyboard has a unique but functional layou...  \n",
       "20  The hotel is in a great location, close to Fis...  \n",
       "21                                                NaN  \n",
       "22  The car gets extremely good gas mileage compar...  \n",
       "23                                                NaN  \n",
       "24                                                NaN  \n",
       "25                                                NaN  \n",
       "26  The performance of the 1005HA is more than acc...  \n",
       "27  Kindle is expensive, but savings on titles may...  \n",
       "28       The price for the rooms are very reasonable.  \n",
       "29                                                NaN  \n",
       "30  Good, clean and tidy rooms and bathroom.\\r\\r\\n...  \n",
       "31                                                NaN  \n",
       "32                                                NaN  \n",
       "33  Connects to satellites extremely fast.\\r\\r\\nRe...  \n",
       "34  Screen is large and bright.\\r\\r\\nHard to see i...  \n",
       "35                                                NaN  \n",
       "36                                                NaN  \n",
       "37  The seats are adequately comfortable, but a li...  \n",
       "38  The service is quick and to the point, causing...  \n",
       "39                                                NaN  \n",
       "40                                                NaN  \n",
       "41  lightweight and portable, the smaller sized ke...  \n",
       "42   Great sound quality, lots of equalizer settings.  \n",
       "43  Indicates posted speed limits of the road you ...  \n",
       "44  Windows 7 is faster and the best thing is it s...  \n",
       "45  Staff are helpful and friendly.\\r\\r\\nStaff are...  \n",
       "46  The service is friendly and well trained.\\r\\r\\...  \n",
       "47  The transmission has some problems.\\r\\r\\nIt ca...  \n",
       "48                                                NaN  \n",
       "49  The iPod takes and displays quality video.\\r\\r...  \n",
       "50                  The voice is very clear and loud.  "
      ]
     },
     "execution_count": 3,
     "metadata": {},
     "output_type": "execute_result"
    }
   ],
   "source": [
    "df"
   ]
  },
  {
   "cell_type": "code",
   "execution_count": 4,
   "metadata": {},
   "outputs": [],
   "source": [
    "## Clean the paragraph\n",
    "def rm_rrn(string):\n",
    "    if isinstance(string, str):\n",
    "        return string.replace('\\r\\r\\n',' ')"
   ]
  },
  {
   "cell_type": "code",
   "execution_count": 5,
   "metadata": {},
   "outputs": [],
   "source": [
    "df = df.applymap(rm_rrn)"
   ]
  },
  {
   "cell_type": "markdown",
   "metadata": {},
   "source": [
    "#### An example paragraph: text1"
   ]
  },
  {
   "cell_type": "code",
   "execution_count": 6,
   "metadata": {},
   "outputs": [
    {
     "data": {
      "text/plain": [
       "\", and is very, very accurate .  but for the most part, we find that the Garmin software provides accurate directions, whereever we intend to go .  This function is not accurate if you don't leave it in battery mode say, when you stop at the Cracker Barrell for lunch and to play one of those trangle games with the tees .  It provides immediate alternatives if the route from the online map program was inaccurate or blocked by an obstacle .  I've used other GPS units, as well as GPS built into cars   and to this day NOTHING beats the accuracy of a Garmin GPS .  It got me from point A to point B with 100% accuracy everytime .  It has yet to disappoint, getting me everywhere with 100% accuracy . 0 out of 5 stars Honest, accurate review, , PLEASE READ !  Aside from that, every destination I've thrown at has been 100% accurate . In closing, this is a fantastic GPS with some very nice features and is very accurate in directions .  Plus, I've always heard that there are  quirks  with any GPS being accurate, having POIs, etc .  DESTINATION TIME, , This is pretty accurate too .  But, it's always very accurate .  The map is pretty accurate and the Point of interest database also is good .  Most of the times, this info was very accurate . I've even used it in the  pedestrian  mode, and it's amazing how accurate it is .   ONLY  is only accurate when an ad says,  Top sirloin steak, ONLY $1 .  The most accurate review stated that these machines are adjunct to a good map and signs on the interstate .  The directions are highly accurate down to a  T  .  Depending on what you are using it for, it is a nice adjunct to a travel trip and the directions are accurate and usually the quickest, but not always .  The screen is easy to see, the voice tells you where you are and it's very accurate .  It was accurate to the minute when it told me when I would arrive home . 0 out of 5 stars GPS Navigator doesn't navigate accurately on a straight road .  I was familiar with the streets and only used the Nuvi to get an accurate arrival time estimate .  but after that it is very easy and quite accurate to use .  The accuracy at this point is very good . While the 255W routing seems generally accurate and logical, on my first use I discovered that it does have some errors in its internal map .  Bottom line is I wanted a unit that is accurate and had reliable satellite connection .  I've used it around town and find it to be extremely accurate . I found the maps to be inaccurate at first, but after I updated them from Garmin's website everything is golden .  A lot of my friends' addresses are inaccurate by any GPS .  It loads quickly, have pretty accurate directions, and can recalculate quickly when I miss a turn .  Because the accuracy is good to the street address level, it may not be able to guide you to the exact location if your destination is inside a shopping mall . I updated to the latest 2010 map soon after I received the unit, so the map is accurate to me .  I was blown away at the accuracy and routing capability this thing had .  I used it the day I bought it,   and then this morning, and as soon as it comes on it is  ready to navigate  The only downfall of this product, and the only reason I did not give it 5 stars is the fact that the speed limit it displays for the road you are on isn't 100% accurate .  If your looking for a nice, accurate GPS for not so much money, got with this one . 0 out of 5 stars Inexpensive, accurate, plenty of features, August 6, 2009  The only glitch I have found so far is that the speed limits are not 100% accurate, although the GPS, amazingly, is able to very accurately tell you how fast your vehicle is moving .  I was a little disappointed in the inaccuracy of the posted speed limit, as I'm guilty of not paying close enough attention to those signs, especially w  interstate speed traps that are constantly changing up and down .  The closest one that gives the most accurate route that I usually take is the Navigon .  After 2 weeks, it has yet to make a mistake, and is always completely accurate ,  even to the point of telling me which side of the street my destination is on .  It has worked well for local driving giving accurate directions for roads and streets . The estimated time to arrival does not seem to calculate the travelling time accurately . Accuracy is as good as any other unit, they all sometimes tell you you have arrived when you haven't, or continue to tell you to turn when you're already there .  Accuracy is determined by the maps .  Less traveled rural roads will not be accurate on any unit .  Accuracy is within a few yards . What the 255w does best is find a street address, business, point of interest, hospital or airport and give you turn, by, turn directions with amazing accuracy .  The Garmin is loaded with very accurate maps that generally know the roads in even the remotest areas . I'm really glad I bought it though, and like the easy to read graphics, the voice used to tell you the name of the street you are to turn on, the uncannily accurate estimates of mileage and time of arrival at your destination . My new Garmin 255w had very Easy Set Up, Accurate Directions to locations, User Friendly Unit to anyone in my vehicle who tried it .  I had a GPS 10, years ago when I owned a boat that was difficult to use and with very poor accuracy so I had assumed that the road GPS wasn't any better .  Practiced visiting places I already knew to see how accurate the directions and maps would be .  Easy to use, excellent accuracy, nice and intuitive interface .  The directions provided have all been quite accurate thus far . ,  Very Accurate but with one small glitch I found ,  I'll explain in the CONS This is a great GPS, it is so easy to use and it is always accurate . Very easy to operate and pretty accurate as well, only led me astray once and that was in northern Maine where roads are few and paved ones fewer .  Easy to use and amazed at how accurate this item is . To date it's been a very easy to use and accurate .  Mounted really easily and has been very accurate .  seems to be rather accurate .  It was accurate on determing original directions and recalculating when necessary . Highly accurate, POIs are great .  I can't believe how accurate and detailed the information estimated time of arrival,speed limits along the way,and detailed map of my route, to name a few .  Speed of calculation, accuracy, and simplicity of operation are top notch . \""
      ]
     },
     "execution_count": 6,
     "metadata": {},
     "output_type": "execute_result"
    }
   ],
   "source": [
    "text1 = df['text'][0]\n",
    "text1"
   ]
  },
  {
   "cell_type": "markdown",
   "metadata": {},
   "source": [
    "#### Human written summary of text1"
   ]
  },
  {
   "cell_type": "code",
   "execution_count": 7,
   "metadata": {},
   "outputs": [
    {
     "data": {
      "text/plain": [
       "'This unit is generally quite accurate.   Set-up and usage are considered to be very easy.  The maps can be updated, and tend to be reliable. '"
      ]
     },
     "execution_count": 7,
     "metadata": {},
     "output_type": "execute_result"
    }
   ],
   "source": [
    "df['summary_number_1'][0]"
   ]
  },
  {
   "cell_type": "code",
   "execution_count": 8,
   "metadata": {},
   "outputs": [],
   "source": [
    "#pip install rouge --user"
   ]
  },
  {
   "cell_type": "markdown",
   "metadata": {},
   "source": [
    "## 2. Rouge Score for text summarization"
   ]
  },
  {
   "cell_type": "code",
   "execution_count": 9,
   "metadata": {},
   "outputs": [],
   "source": [
    "from rouge import Rouge\n",
    "rouge = Rouge()"
   ]
  },
  {
   "cell_type": "code",
   "execution_count": 10,
   "metadata": {},
   "outputs": [
    {
     "data": {
      "text/plain": [
       "[{'rouge-1': {'f': 0.3809523762358277, 'p': 0.5, 'r': 0.3076923076923077},\n",
       "  'rouge-2': {'f': 0.04999999531250044, 'p': 0.06666666666666667, 'r': 0.04},\n",
       "  'rouge-l': {'f': 0.37837837355734116,\n",
       "   'p': 0.4666666666666667,\n",
       "   'r': 0.3181818181818182}}]"
      ]
     },
     "execution_count": 10,
     "metadata": {},
     "output_type": "execute_result"
    }
   ],
   "source": [
    "rouge.get_scores(df['summary_number_2'][0], df['summary_number_1'][0])"
   ]
  },
  {
   "cell_type": "markdown",
   "metadata": {
    "collapsed": true
   },
   "source": [
    "# 3. Word Frequency Algorithm\n",
    "Bag of words based algorithm\n",
    " - compute word frequency\n",
    " - score each sentence according to word frequency (can be weighted)\n",
    " - generate threshold of sentence selection (average score, etc.)\n",
    " - Selected sentence (score > threshold) as summary"
   ]
  },
  {
   "cell_type": "code",
   "execution_count": 11,
   "metadata": {},
   "outputs": [],
   "source": [
    "import word_frequency_model as wf"
   ]
  },
  {
   "cell_type": "markdown",
   "metadata": {},
   "source": [
    "#### summary of word frequency model on text1\n",
    "1-gram F1-score: 0.156"
   ]
  },
  {
   "cell_type": "code",
   "execution_count": 12,
   "metadata": {},
   "outputs": [
    {
     "data": {
      "text/plain": [
       "\" , and is very, very accurate . It has yet to disappoint, getting me everywhere with 100% accuracy . Aside from that, every destination I've thrown at has been 100% accurate . DESTINATION TIME, , This is pretty accurate too . But, it's always very accurate . Most of the times, this info was very accurate . The directions are highly accurate down to a  T  . It was accurate to the minute when it told me when I would arrive home . The accuracy at this point is very good . Accuracy is as good as any other unit, they all sometimes tell you you have arrived when you haven't, or continue to tell you to turn when you're already there . Accuracy is determined by the maps . Accuracy is within a few yards . Easy to use, excellent accuracy, nice and intuitive interface . The directions provided have all been quite accurate thus far . Easy to use and amazed at how accurate this item is . Mounted really easily and has been very accurate . seems to be rather accurate . It was accurate on determing original directions and recalculating when necessary . Highly accurate, POIs are great . Speed of calculation, accuracy, and simplicity of operation are top notch .\""
      ]
     },
     "execution_count": 12,
     "metadata": {},
     "output_type": "execute_result"
    }
   ],
   "source": [
    "wf_summary1 = wf.summarize_text_wf(text1) ## summary output from \n",
    "wf_summary1"
   ]
  },
  {
   "cell_type": "code",
   "execution_count": 13,
   "metadata": {},
   "outputs": [
    {
     "data": {
      "text/plain": [
       "[{'rouge-1': {'f': 0.11764705674740487, 'p': 0.06666666666666667, 'r': 0.5},\n",
       "  'rouge-2': {'f': 0.01826483816017203, 'p': 0.010309278350515464, 'r': 0.08},\n",
       "  'rouge-l': {'f': 0.15602836616065593, 'p': 0.09243697478991597, 'r': 0.5}}]"
      ]
     },
     "execution_count": 13,
     "metadata": {},
     "output_type": "execute_result"
    }
   ],
   "source": [
    "rouge.get_scores(wf_summary1, df['summary_number_1'][0])"
   ]
  },
  {
   "cell_type": "markdown",
   "metadata": {},
   "source": [
    "# 4. TextRank Algorithms\n"
   ]
  },
  {
   "cell_type": "markdown",
   "metadata": {},
   "source": [
    "### Pytextrank package"
   ]
  },
  {
   "cell_type": "code",
   "execution_count": 14,
   "metadata": {},
   "outputs": [],
   "source": [
    "import textrank_graph_model as tr"
   ]
  },
  {
   "cell_type": "code",
   "execution_count": 15,
   "metadata": {},
   "outputs": [
    {
     "data": {
      "text/plain": [
       "\"In closing, this is a fantastic GPS with some very nice features and is very accurate in directions .\\nThe map is pretty accurate and the Point of interest database also is good .\\nThe most accurate review stated that these machines are adjunct to a good map and signs on the interstate .\\nWhile the 255W routing seems generally accurate and logical, on my first use I discovered that it does have some errors in its internal map .\\nIt has worked well for local driving giving accurate directions for roads and streets .\\nLess traveled rural roads will not be accurate on any unit .\\nThe Garmin is loaded with very accurate maps that generally know the roads in even the remotest areas .\\nI'm really glad I bought it though, and like the easy to read graphics, the voice used to tell you the name of the street you are to turn on, the uncannily accurate estimates of mileage and time of arrival at your destination .\\nMy new Garmin 255w had very Easy Set Up, Accurate Directions to locations, User Friendly Unit to anyone in my vehicle who tried it .\\nThe directions provided have all been quite accurate thus far .\\nEasy to use and amazed at how accurate this item is .\\nTo date it's been a very easy to use and accurate .\\nI can't believe how accurate and detailed the information estimated time of arrival,speed limits along the way,and detailed map of my route, to name a few .\""
      ]
     },
     "execution_count": 15,
     "metadata": {},
     "output_type": "execute_result"
    }
   ],
   "source": [
    "tr_summary1 = tr.gensim_summarize(text1) # summary output fro gensim package\n",
    "tr_summary1"
   ]
  },
  {
   "cell_type": "markdown",
   "metadata": {},
   "source": [
    "**summary of text rank model on text1**\n",
    "\n",
    "1-gram F1-score: 0.156"
   ]
  },
  {
   "cell_type": "code",
   "execution_count": 16,
   "metadata": {
    "scrolled": true
   },
   "outputs": [
    {
     "data": {
      "text/plain": [
       "[{'rouge-1': {'f': 0.11111110937064472,\n",
       "   'p': 0.06147540983606557,\n",
       "   'r': 0.5769230769230769},\n",
       "  'rouge-2': {'f': 0.014925371442693442, 'p': 0.00823045267489712, 'r': 0.08},\n",
       "  'rouge-l': {'f': 0.14371257256265915,\n",
       "   'p': 0.08275862068965517,\n",
       "   'r': 0.5454545454545454}}]"
      ]
     },
     "execution_count": 16,
     "metadata": {},
     "output_type": "execute_result"
    }
   ],
   "source": [
    "rouge.get_scores(tr_summary1, df['summary_number_1'][0])"
   ]
  },
  {
   "cell_type": "markdown",
   "metadata": {},
   "source": [
    "## 5. Kmean clustering of sentence embedding using Bert"
   ]
  },
  {
   "cell_type": "markdown",
   "metadata": {},
   "source": [
    "### 5. 1 BERT pretrained pytorch model "
   ]
  },
  {
   "cell_type": "code",
   "execution_count": 17,
   "metadata": {},
   "outputs": [],
   "source": [
    "import bert_clustering_summary as bs"
   ]
  },
  {
   "cell_type": "code",
   "execution_count": 18,
   "metadata": {},
   "outputs": [
    {
     "data": {
      "text/plain": [
       "\", and is very, very accurate . Plus, I've always heard that there are  quirks  with any GPS being accurate, having POIs, etc . The most accurate review stated that these machines are adjunct to a good map and signs on the interstate . Depending on what you are using it for, it is a nice adjunct to a travel trip and the directions are accurate and usually the quickest, but not always . but after that it is very easy and quite accurate to use . It loads quickly, have pretty accurate directions, and can recalculate quickly when I miss a turn . I used it the day I bought it,   and then this morning, and as soon as it comes on it is  ready to navigate  The only downfall of this product, and the only reason I did not give it 5 stars is the fact that the speed limit it displays for the road you are on isn't 100% accurate . The estimated time to arrival does not seem to calculate the travelling time accurately . Speed of calculation, accuracy, and simplicity of operation are top notch .\""
      ]
     },
     "execution_count": 18,
     "metadata": {},
     "output_type": "execute_result"
    }
   ],
   "source": [
    "bs_summary1 = bs.bertSummarize(text1)\n",
    "bs_summary1"
   ]
  },
  {
   "cell_type": "markdown",
   "metadata": {},
   "source": [
    "**Summary of BERT clustering model on text1**\n",
    "\n",
    "1-gram F1-score: 0.155"
   ]
  },
  {
   "cell_type": "code",
   "execution_count": 19,
   "metadata": {},
   "outputs": [
    {
     "data": {
      "text/plain": [
       "[{'rouge-1': {'f': 0.11538461319711542,\n",
       "   'p': 0.06593406593406594,\n",
       "   'r': 0.46153846153846156},\n",
       "  'rouge-2': {'f': 0.01941747359553233, 'p': 0.011049723756906077, 'r': 0.08},\n",
       "  'rouge-l': {'f': 0.13432835546446878,\n",
       "   'p': 0.08035714285714286,\n",
       "   'r': 0.4090909090909091}}]"
      ]
     },
     "execution_count": 19,
     "metadata": {},
     "output_type": "execute_result"
    }
   ],
   "source": [
    "rouge.get_scores(bs_summary1, df['summary_number_1'][0])"
   ]
  },
  {
   "cell_type": "markdown",
   "metadata": {},
   "source": [
    "### 5.2 Another package using similar implementation\n",
    "bert-extractive-summarizer"
   ]
  },
  {
   "cell_type": "code",
   "execution_count": 20,
   "metadata": {},
   "outputs": [
    {
     "name": "stderr",
     "output_type": "stream",
     "text": [
      "C:\\ProgramData\\Anaconda3\\lib\\site-packages\\torch\\cuda\\__init__.py:52: UserWarning: CUDA initialization: Found no NVIDIA driver on your system. Please check that you have an NVIDIA GPU and installed a driver from http://www.nvidia.com/Download/index.aspx (Triggered internally at  ..\\c10\\cuda\\CUDAFunctions.cpp:100.)\n",
      "  return torch._C._cuda_getDeviceCount() > 0\n"
     ]
    }
   ],
   "source": [
    "from summarizer import Summarizer"
   ]
  },
  {
   "cell_type": "code",
   "execution_count": 21,
   "metadata": {},
   "outputs": [],
   "source": [
    "model = Summarizer()"
   ]
  },
  {
   "cell_type": "code",
   "execution_count": 22,
   "metadata": {},
   "outputs": [],
   "source": [
    "bert_sum = model(text1)"
   ]
  },
  {
   "cell_type": "markdown",
   "metadata": {},
   "source": [
    "**summary of bert-extractive-summarizer on text1**\n",
    "\n",
    "1-gram F1-score: 0.149"
   ]
  },
  {
   "cell_type": "code",
   "execution_count": 23,
   "metadata": {},
   "outputs": [
    {
     "data": {
      "text/plain": [
       "[{'rouge-1': {'f': 0.0991735518011065,\n",
       "   'p': 0.05555555555555555,\n",
       "   'r': 0.46153846153846156},\n",
       "  'rouge-2': {'f': 0.008333331467014305, 'p': 0.004651162790697674, 'r': 0.04},\n",
       "  'rouge-l': {'f': 0.122448977046601, 'p': 0.072, 'r': 0.4090909090909091}}]"
      ]
     },
     "execution_count": 23,
     "metadata": {},
     "output_type": "execute_result"
    }
   ],
   "source": [
    "rouge.get_scores(bert_sum, df['summary_number_1'][0])"
   ]
  },
  {
   "cell_type": "markdown",
   "metadata": {},
   "source": [
    "## T5 text summarization"
   ]
  },
  {
   "cell_type": "code",
   "execution_count": 24,
   "metadata": {},
   "outputs": [],
   "source": [
    "#!pip install sentencepiece"
   ]
  },
  {
   "cell_type": "code",
   "execution_count": 25,
   "metadata": {},
   "outputs": [
    {
     "name": "stderr",
     "output_type": "stream",
     "text": [
      "Some weights of the model checkpoint at t5-base were not used when initializing T5ForConditionalGeneration: ['decoder.block.0.layer.1.EncDecAttention.relative_attention_bias.weight']\n",
      "- This IS expected if you are initializing T5ForConditionalGeneration from the checkpoint of a model trained on another task or with another architecture (e.g. initializing a BertForSequenceClassification model from a BertForPreTraining model).\n",
      "- This IS NOT expected if you are initializing T5ForConditionalGeneration from the checkpoint of a model that you expect to be exactly identical (initializing a BertForSequenceClassification model from a BertForSequenceClassification model).\n"
     ]
    }
   ],
   "source": [
    "import BART_T5 as bartT5"
   ]
  },
  {
   "cell_type": "code",
   "execution_count": 26,
   "metadata": {},
   "outputs": [
    {
     "name": "stderr",
     "output_type": "stream",
     "text": [
      "Token indices sequence length is longer than the specified maximum sequence length for this model (1539 > 512). Running this sequence through the model will result in indexing errors\n"
     ]
    }
   ],
   "source": [
    "t5Summaries = bartT5.t5_summarize(text1)"
   ]
  },
  {
   "cell_type": "code",
   "execution_count": 27,
   "metadata": {},
   "outputs": [
    {
     "data": {
      "text/plain": [
       "'0 out of 5 stars Very accurate, very easy to use, and is very, very accurate . but for the most part, the Garmin software provides accurate directions, whereever we intend to go . it provides immediate alternatives'"
      ]
     },
     "execution_count": 27,
     "metadata": {},
     "output_type": "execute_result"
    }
   ],
   "source": [
    "t5Summaries"
   ]
  },
  {
   "cell_type": "code",
   "execution_count": 28,
   "metadata": {},
   "outputs": [
    {
     "data": {
      "text/plain": [
       "[{'rouge-1': {'f': 0.22580644674297617,\n",
       "   'p': 0.19444444444444445,\n",
       "   'r': 0.2692307692307692},\n",
       "  'rouge-2': {'f': 0.03333332847222294, 'p': 0.02857142857142857, 'r': 0.04},\n",
       "  'rouge-l': {'f': 0.1886792404271984,\n",
       "   'p': 0.16129032258064516,\n",
       "   'r': 0.22727272727272727}}]"
      ]
     },
     "execution_count": 28,
     "metadata": {},
     "output_type": "execute_result"
    }
   ],
   "source": [
    "rouge.get_scores(t5Summaries, df['summary_number_1'][0])"
   ]
  },
  {
   "cell_type": "markdown",
   "metadata": {},
   "source": [
    "## BART Text summarization"
   ]
  },
  {
   "cell_type": "code",
   "execution_count": 29,
   "metadata": {},
   "outputs": [
    {
     "data": {
      "text/plain": [
       "\",etc., and is very, very accurate . but for the most part, we find that the Garmin software provides accurate directions, whereever we intend to go . This function is not accurate if you don't leave it in battery\""
      ]
     },
     "execution_count": 29,
     "metadata": {},
     "output_type": "execute_result"
    }
   ],
   "source": [
    "bartSummaries = bartT5.bart_summarize(text1[:512])\n",
    "bartSummaries"
   ]
  },
  {
   "cell_type": "code",
   "execution_count": 30,
   "metadata": {},
   "outputs": [
    {
     "data": {
      "text/plain": [
       "[{'rouge-1': {'f': 0.18749999517578136,\n",
       "   'p': 0.15789473684210525,\n",
       "   'r': 0.23076923076923078},\n",
       "  'rouge-2': {'f': 0.0, 'p': 0.0, 'r': 0.0},\n",
       "  'rouge-l': {'f': 0.21818181338181827,\n",
       "   'p': 0.18181818181818182,\n",
       "   'r': 0.2727272727272727}}]"
      ]
     },
     "execution_count": 30,
     "metadata": {},
     "output_type": "execute_result"
    }
   ],
   "source": [
    "rouge.get_scores(bartSummaries, df['summary_number_1'][0])"
   ]
  },
  {
   "cell_type": "markdown",
   "metadata": {},
   "source": [
    "## 6. Test and Compare using Opinosis Dataset"
   ]
  },
  {
   "cell_type": "markdown",
   "metadata": {},
   "source": []
  },
  {
   "cell_type": "markdown",
   "metadata": {},
   "source": [
    "### 6.1 Produce summary and compute ROUGE score from each model"
   ]
  },
  {
   "cell_type": "code",
   "execution_count": 31,
   "metadata": {},
   "outputs": [
    {
     "data": {
      "text/plain": [
       "Index(['text', 'topics', 'summary_number_1', 'summary_number_2',\n",
       "       'summary_number_3', 'summary_number_4', 'summary_number_5'],\n",
       "      dtype='object')"
      ]
     },
     "execution_count": 31,
     "metadata": {},
     "output_type": "execute_result"
    }
   ],
   "source": [
    "df.columns"
   ]
  },
  {
   "cell_type": "code",
   "execution_count": 33,
   "metadata": {},
   "outputs": [],
   "source": [
    "df = df[:10]"
   ]
  },
  {
   "cell_type": "code",
   "execution_count": 34,
   "metadata": {},
   "outputs": [
    {
     "data": {
      "text/html": [
       "<div>\n",
       "<style scoped>\n",
       "    .dataframe tbody tr th:only-of-type {\n",
       "        vertical-align: middle;\n",
       "    }\n",
       "\n",
       "    .dataframe tbody tr th {\n",
       "        vertical-align: top;\n",
       "    }\n",
       "\n",
       "    .dataframe thead th {\n",
       "        text-align: right;\n",
       "    }\n",
       "</style>\n",
       "<table border=\"1\" class=\"dataframe\">\n",
       "  <thead>\n",
       "    <tr style=\"text-align: right;\">\n",
       "      <th></th>\n",
       "      <th>text</th>\n",
       "      <th>topics</th>\n",
       "      <th>summary_number_1</th>\n",
       "      <th>summary_number_2</th>\n",
       "      <th>summary_number_3</th>\n",
       "      <th>summary_number_4</th>\n",
       "      <th>summary_number_5</th>\n",
       "      <th>wf_summary</th>\n",
       "    </tr>\n",
       "  </thead>\n",
       "  <tbody>\n",
       "    <tr>\n",
       "      <th>0</th>\n",
       "      <td>, and is very, very accurate .  but for the mo...</td>\n",
       "      <td>accuracy_garmin_nuvi_255W_gps</td>\n",
       "      <td>This unit is generally quite accurate.   Set-u...</td>\n",
       "      <td>The Garmin seems to be generally very accurate...</td>\n",
       "      <td>It is very accurate, even in destination time.</td>\n",
       "      <td>Very accurate with travel and destination time...</td>\n",
       "      <td>Its accurate, fast and its simple operations m...</td>\n",
       "      <td>, and is very, very accurate . It has yet to ...</td>\n",
       "    </tr>\n",
       "    <tr>\n",
       "      <th>1</th>\n",
       "      <td>The room was not overly big, but clean and ve...</td>\n",
       "      <td>bathroom_bestwestern_hotel_sfo</td>\n",
       "      <td>The rooms were not large but were clean and ve...</td>\n",
       "      <td>Rooms are not big, but clean and with comforta...</td>\n",
       "      <td>Bathrooms are satisfactory.  The rooms are cle...</td>\n",
       "      <td>Bathrooms are mostly adequate sized and clean ...</td>\n",
       "      <td>People were most impressesd with the bathrooms...</td>\n",
       "      <td>Large comfortable room, wonderful bathroom . ...</td>\n",
       "    </tr>\n",
       "    <tr>\n",
       "      <th>2</th>\n",
       "      <td>After I plugged it in to my USB hub on my com...</td>\n",
       "      <td>battery-life_amazon_kindle</td>\n",
       "      <td>Battery life is exceptional. The Kindle can ru...</td>\n",
       "      <td>Battery life is exceptional. The Kindle can ru...</td>\n",
       "      <td>It can be a very difficult process when trying...</td>\n",
       "      <td>The battery life of the Kindle is very long. A...</td>\n",
       "      <td>The battery life of the Kindle is very long. A...</td>\n",
       "      <td>NO USER REPLACEABLE BATTERY, , Unless you buy...</td>\n",
       "    </tr>\n",
       "    <tr>\n",
       "      <th>3</th>\n",
       "      <td>short battery life  I moved up from an 8gb . ...</td>\n",
       "      <td>battery-life_ipod_nano_8gb</td>\n",
       "      <td>The battery life is too short. The time betwee...</td>\n",
       "      <td>The battery life of the ipod nano is very shor...</td>\n",
       "      <td>The battery life of the Ipod Nano 8GB is far t...</td>\n",
       "      <td>Battery life is very short, especially when yo...</td>\n",
       "      <td>Battery life short, especially for video.</td>\n",
       "      <td>short battery life  I moved up from an 8gb ....</td>\n",
       "    </tr>\n",
       "    <tr>\n",
       "      <th>4</th>\n",
       "      <td>6GHz 533FSB cpu, glossy display, 3, Cell 23Wh ...</td>\n",
       "      <td>battery-life_netbook_1005ha</td>\n",
       "      <td>The battery life is longer then 5 hours. But d...</td>\n",
       "      <td>Battery lasts about 5 hours. Time is shorter w...</td>\n",
       "      <td>battery-life is fantastic and good. The 6 hour...</td>\n",
       "      <td>Battery lasts about 5 hours. Time is shorter w...</td>\n",
       "      <td>Battery lasts about 5 hours. Time is shorter w...</td>\n",
       "      <td>6GHz 533FSB cpu, glossy display, 3, Cell 23Wh...</td>\n",
       "    </tr>\n",
       "    <tr>\n",
       "      <th>5</th>\n",
       "      <td>I thought it would be fitting to christen my K...</td>\n",
       "      <td>buttons_amazon_kindle</td>\n",
       "      <td>It is not user friendly and the buttons are no...</td>\n",
       "      <td>The buttons are well placed, but can be hard t...</td>\n",
       "      <td>Magical five way button. Next page button on b...</td>\n",
       "      <td>New buttons are easy to use and effective. No ...</td>\n",
       "      <td>None</td>\n",
       "      <td>The gadget feeling is underlined by needing t...</td>\n",
       "    </tr>\n",
       "    <tr>\n",
       "      <th>6</th>\n",
       "      <td>Drivers seat not comfortable, the car itself ...</td>\n",
       "      <td>comfort_honda_accord_2008</td>\n",
       "      <td>The 2008 honda accord has an extremely uncomfo...</td>\n",
       "      <td>The driving position and the leather seats are...</td>\n",
       "      <td>Comfort is ok, but the front seats are too fir...</td>\n",
       "      <td>The front seats are uncomfortable. The contour...</td>\n",
       "      <td>The seats are not comfortable as many other ca...</td>\n",
       "      <td>Drivers seat not comfortable, the car itself...</td>\n",
       "    </tr>\n",
       "    <tr>\n",
       "      <th>7</th>\n",
       "      <td>Ride seems comfortable and gas mileage fairly...</td>\n",
       "      <td>comfort_toyota_camry_2007</td>\n",
       "      <td>The Camry offers interior comfort, while provi...</td>\n",
       "      <td>Overall very comfortable ride front and back. ...</td>\n",
       "      <td>Overall very comfortable ride front and back. ...</td>\n",
       "      <td>Its very comfortable for long trips.</td>\n",
       "      <td>Its very comfortable and a quiet ride with low...</td>\n",
       "      <td>Seats are fine, in fact of all the smaller se...</td>\n",
       "    </tr>\n",
       "    <tr>\n",
       "      <th>8</th>\n",
       "      <td>You also get upscale features like spoken dir...</td>\n",
       "      <td>directions_garmin_nuvi_255W_gps</td>\n",
       "      <td>The voice directions are good, it sometime wro...</td>\n",
       "      <td>The voice directions are good, it sometime wro...</td>\n",
       "      <td>Directions are usually accurate and easy to un...</td>\n",
       "      <td>Directions are accurate, easy to see and under...</td>\n",
       "      <td>Turn-by-turn directions are accurate. Directio...</td>\n",
       "      <td>You also get upscale features like spoken di...</td>\n",
       "    </tr>\n",
       "    <tr>\n",
       "      <th>9</th>\n",
       "      <td>3 quot  widescreen display was a bonus .  This...</td>\n",
       "      <td>display_garmin_nuvi_255W_gps</td>\n",
       "      <td>Display is wide and clear. Display can easily ...</td>\n",
       "      <td>The new screen is large, clear, and bright. In...</td>\n",
       "      <td>The wide display of the 225 is very good. It m...</td>\n",
       "      <td>The display is bright, clear, and smooth. Disp...</td>\n",
       "      <td>Display is wide, laid out nice, and is very cl...</td>\n",
       "      <td>3 quot  widescreen display was a bonus . The ...</td>\n",
       "    </tr>\n",
       "  </tbody>\n",
       "</table>\n",
       "</div>"
      ],
      "text/plain": [
       "                                                text  \\\n",
       "0  , and is very, very accurate .  but for the mo...   \n",
       "1   The room was not overly big, but clean and ve...   \n",
       "2   After I plugged it in to my USB hub on my com...   \n",
       "3   short battery life  I moved up from an 8gb . ...   \n",
       "4  6GHz 533FSB cpu, glossy display, 3, Cell 23Wh ...   \n",
       "5  I thought it would be fitting to christen my K...   \n",
       "6   Drivers seat not comfortable, the car itself ...   \n",
       "7   Ride seems comfortable and gas mileage fairly...   \n",
       "8   You also get upscale features like spoken dir...   \n",
       "9  3 quot  widescreen display was a bonus .  This...   \n",
       "\n",
       "                            topics  \\\n",
       "0    accuracy_garmin_nuvi_255W_gps   \n",
       "1   bathroom_bestwestern_hotel_sfo   \n",
       "2       battery-life_amazon_kindle   \n",
       "3       battery-life_ipod_nano_8gb   \n",
       "4      battery-life_netbook_1005ha   \n",
       "5            buttons_amazon_kindle   \n",
       "6        comfort_honda_accord_2008   \n",
       "7        comfort_toyota_camry_2007   \n",
       "8  directions_garmin_nuvi_255W_gps   \n",
       "9     display_garmin_nuvi_255W_gps   \n",
       "\n",
       "                                    summary_number_1  \\\n",
       "0  This unit is generally quite accurate.   Set-u...   \n",
       "1  The rooms were not large but were clean and ve...   \n",
       "2  Battery life is exceptional. The Kindle can ru...   \n",
       "3  The battery life is too short. The time betwee...   \n",
       "4  The battery life is longer then 5 hours. But d...   \n",
       "5  It is not user friendly and the buttons are no...   \n",
       "6  The 2008 honda accord has an extremely uncomfo...   \n",
       "7  The Camry offers interior comfort, while provi...   \n",
       "8  The voice directions are good, it sometime wro...   \n",
       "9  Display is wide and clear. Display can easily ...   \n",
       "\n",
       "                                    summary_number_2  \\\n",
       "0  The Garmin seems to be generally very accurate...   \n",
       "1  Rooms are not big, but clean and with comforta...   \n",
       "2  Battery life is exceptional. The Kindle can ru...   \n",
       "3  The battery life of the ipod nano is very shor...   \n",
       "4  Battery lasts about 5 hours. Time is shorter w...   \n",
       "5  The buttons are well placed, but can be hard t...   \n",
       "6  The driving position and the leather seats are...   \n",
       "7  Overall very comfortable ride front and back. ...   \n",
       "8  The voice directions are good, it sometime wro...   \n",
       "9  The new screen is large, clear, and bright. In...   \n",
       "\n",
       "                                    summary_number_3  \\\n",
       "0    It is very accurate, even in destination time.    \n",
       "1  Bathrooms are satisfactory.  The rooms are cle...   \n",
       "2  It can be a very difficult process when trying...   \n",
       "3  The battery life of the Ipod Nano 8GB is far t...   \n",
       "4  battery-life is fantastic and good. The 6 hour...   \n",
       "5  Magical five way button. Next page button on b...   \n",
       "6  Comfort is ok, but the front seats are too fir...   \n",
       "7  Overall very comfortable ride front and back. ...   \n",
       "8  Directions are usually accurate and easy to un...   \n",
       "9  The wide display of the 225 is very good. It m...   \n",
       "\n",
       "                                    summary_number_4  \\\n",
       "0  Very accurate with travel and destination time...   \n",
       "1  Bathrooms are mostly adequate sized and clean ...   \n",
       "2  The battery life of the Kindle is very long. A...   \n",
       "3  Battery life is very short, especially when yo...   \n",
       "4  Battery lasts about 5 hours. Time is shorter w...   \n",
       "5  New buttons are easy to use and effective. No ...   \n",
       "6  The front seats are uncomfortable. The contour...   \n",
       "7               Its very comfortable for long trips.   \n",
       "8  Directions are accurate, easy to see and under...   \n",
       "9  The display is bright, clear, and smooth. Disp...   \n",
       "\n",
       "                                    summary_number_5  \\\n",
       "0  Its accurate, fast and its simple operations m...   \n",
       "1  People were most impressesd with the bathrooms...   \n",
       "2  The battery life of the Kindle is very long. A...   \n",
       "3         Battery life short, especially for video.    \n",
       "4  Battery lasts about 5 hours. Time is shorter w...   \n",
       "5                                               None   \n",
       "6  The seats are not comfortable as many other ca...   \n",
       "7  Its very comfortable and a quiet ride with low...   \n",
       "8  Turn-by-turn directions are accurate. Directio...   \n",
       "9  Display is wide, laid out nice, and is very cl...   \n",
       "\n",
       "                                          wf_summary  \n",
       "0   , and is very, very accurate . It has yet to ...  \n",
       "1   Large comfortable room, wonderful bathroom . ...  \n",
       "2   NO USER REPLACEABLE BATTERY, , Unless you buy...  \n",
       "3    short battery life  I moved up from an 8gb ....  \n",
       "4   6GHz 533FSB cpu, glossy display, 3, Cell 23Wh...  \n",
       "5   The gadget feeling is underlined by needing t...  \n",
       "6    Drivers seat not comfortable, the car itself...  \n",
       "7   Seats are fine, in fact of all the smaller se...  \n",
       "8    You also get upscale features like spoken di...  \n",
       "9   3 quot  widescreen display was a bonus . The ...  "
      ]
     },
     "execution_count": 34,
     "metadata": {},
     "output_type": "execute_result"
    }
   ],
   "source": [
    "df"
   ]
  },
  {
   "cell_type": "code",
   "execution_count": 35,
   "metadata": {},
   "outputs": [],
   "source": [
    "df['wf_summary'] = df['text'].apply(lambda x: wf.summarize_text_wf(x))\n",
    "df['wf_rouge1_f1'] = df[['wf_summary','summary_number_1']]. \\\n",
    "                apply(lambda x: rouge.get_scores(x[0],x[1])[0]['rouge-1']['f'],axis=1)"
   ]
  },
  {
   "cell_type": "code",
   "execution_count": 36,
   "metadata": {},
   "outputs": [],
   "source": [
    "df['tr_summary'] = df['text'].apply(lambda x: tr.gensim_summarize(x))\n",
    "df['tr_rouge1_f1'] = df[['tr_summary','summary_number_1']]. \\\n",
    "                apply(lambda x: rouge.get_scores(x[0],x[1])[0]['rouge-1']['f'],axis=1)"
   ]
  },
  {
   "cell_type": "code",
   "execution_count": 37,
   "metadata": {},
   "outputs": [],
   "source": [
    "df['bs_summary'] = df['text'].apply(lambda x: bs.bertSummarize(x))\n",
    "df['bs_rouge1_f1'] = df[['bs_summary','summary_number_1']]. \\\n",
    "                apply(lambda x: rouge.get_scores(x[0],x[1])[0]['rouge-1']['f'],axis=1)"
   ]
  },
  {
   "cell_type": "code",
   "execution_count": 38,
   "metadata": {},
   "outputs": [],
   "source": [
    "df['t5summary'] = df['text'].apply(lambda x: bartT5.t5_summarize(x))\n",
    "df['t5_rouge1_f1'] = df[['t5summary','summary_number_1']]. \\\n",
    "                apply(lambda x: rouge.get_scores(x[0],x[1])[0]['rouge-1']['f'],axis=1)"
   ]
  },
  {
   "cell_type": "code",
   "execution_count": 39,
   "metadata": {},
   "outputs": [
    {
     "data": {
      "text/plain": [
       "(0.06394185333149788,\n",
       " 0.0492209145137948,\n",
       " 0.08917247477219341,\n",
       " 0.16434411440535387)"
      ]
     },
     "execution_count": 39,
     "metadata": {},
     "output_type": "execute_result"
    }
   ],
   "source": [
    "np.mean(df['tr_rouge1_f1']),np.mean(df['wf_rouge1_f1']),np.mean(df['bs_rouge1_f1']), np.mean(df['t5_rouge1_f1'])"
   ]
  },
  {
   "cell_type": "code",
   "execution_count": null,
   "metadata": {},
   "outputs": [],
   "source": [
    "df.to_csv('opniosis with summary.csv')"
   ]
  },
  {
   "cell_type": "markdown",
   "metadata": {},
   "source": [
    "### 6.2 Plot and Compare"
   ]
  },
  {
   "cell_type": "code",
   "execution_count": 40,
   "metadata": {},
   "outputs": [],
   "source": [
    "from matplotlib import pyplot as plt\n",
    "import seaborn as sns"
   ]
  },
  {
   "cell_type": "code",
   "execution_count": 42,
   "metadata": {},
   "outputs": [
    {
     "data": {
      "text/plain": [
       "Text(0.5, 1.0, 'ROUGE-1 Score Density')"
      ]
     },
     "execution_count": 42,
     "metadata": {},
     "output_type": "execute_result"
    },
    {
     "data": {
      "image/png": "[encoded data removed]",
      "text/plain": [
       "<Figure size 720x288 with 1 Axes>"
      ]
     },
     "metadata": {
      "needs_background": "light"
     },
     "output_type": "display_data"
    },
    {
     "data": {
      "image/png": "[encoded data removed]",
      "text/plain": [
       "<Figure size 720x288 with 1 Axes>"
      ]
     },
     "metadata": {
      "needs_background": "light"
     },
     "output_type": "display_data"
    }
   ],
   "source": [
    "plt.figure(figsize=(10,4))\n",
    "\n",
    "x = ['Word frequency model','Text rank model','BERT clustering model', 'T5 transformer model']\n",
    "ROUGE1_mean = [0.06394185333149788, 0.0492209145137948, 0.08917247477219341, 0.16434411440535387]\n",
    "\n",
    "x_pos = [i for i, _ in enumerate(x)]\n",
    "\n",
    "plt.bar(x_pos, ROUGE1_mean, color=['#E69F00','#56B4E9','#009E73', '#008000'])\n",
    "\n",
    "\n",
    "plt.xlabel('Rouge_1-gram_F1 score')\n",
    "plt.ylabel('Mean')\n",
    "plt.title(\"ROUGE-1 Score Mean\")\n",
    "\n",
    "plt.xticks(x_pos, x)\n",
    "\n",
    "plt.figure(figsize=(10,4))\n",
    "\n",
    "sns.distplot(df['wf_rouge1_f1'], hist=False, kde=True, color = '#E69F00', \n",
    "             kde_kws={'linewidth': 4},label='Word frequency model')\n",
    "\n",
    "sns.distplot(df['tr_rouge1_f1'], hist=False, kde=True,color = '#56B4E9',\n",
    "             kde_kws={'linewidth': 4},label='Text rank model')\n",
    "\n",
    "sns.distplot(df['bs_rouge1_f1'], hist=False, kde=True,color = '#009E73',\n",
    "             kde_kws={'linewidth': 4},label='BERT clustering model')\n",
    "\n",
    "sns.distplot(df['t5_rouge1_f1'], hist=False, kde=True,color = '#008000',\n",
    "             kde_kws={'linewidth': 4},label='T5 model')\n",
    "\n",
    "plt.legend(prop={'size': 10}, title = 'Models')\n",
    "\n",
    "plt.xlabel('Rouge_1-gram_F1 score')\n",
    "plt.ylabel('Density')\n",
    "plt.title(\"ROUGE-1 Score Density\")\n"
   ]
  },
  {
   "cell_type": "markdown",
   "metadata": {},
   "source": [
    "# References\n",
    "\n",
    "1. https://github.com/RaRe-Technologies/gensim/tree/develop/gensim/summarization\n",
    "2. https://github.com/DerwenAI/pytextrank/blob/master/explain_summ.ipynb\n",
    "3. https://pypi.org/project/pytorch-pretrained-bert/\n",
    "4. https://github.com/dmmiller612/bert-extractive-summarizer"
   ]
  },
  {
   "cell_type": "code",
   "execution_count": null,
   "metadata": {},
   "outputs": [],
   "source": []
  }
 ],
 "metadata": {
  "kernelspec": {
   "display_name": "Python 3",
   "language": "python",
   "name": "python3"
  },
  "language_info": {
   "codemirror_mode": {
    "name": "ipython",
    "version": 3
   },
   "file_extension": ".py",
   "mimetype": "text/x-python",
   "name": "python",
   "nbconvert_exporter": "python",
   "pygments_lexer": "ipython3",
   "version": "3.7.3"
  }
 },
 "nbformat": 4,
 "nbformat_minor": 2
}
