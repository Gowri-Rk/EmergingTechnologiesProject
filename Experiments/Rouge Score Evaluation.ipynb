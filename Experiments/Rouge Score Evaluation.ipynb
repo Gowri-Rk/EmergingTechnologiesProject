{
 "cells": [
  {
   "cell_type": "markdown",
   "metadata": {},
   "source": [
    "# Content Summarization Evaluation\n",
    "\n",
    "Calculation of rouge scores requires a golden standard of summaries against which the summaries extracted by varioud models are computed. \n",
    "\n",
    "We use the dataset opiniosis (details below) to calculate rouge scores.\n",
    "\n",
    "The following are the various models tried:\n",
    "\n",
    "1. Word frequency model\n",
    "2. Text Rank (Gensim)\n",
    "3. BERT extractive summarizer\n",
    "4. T5 huggingface transformer model\n",
    "5. BART huggingface transformer model"
   ]
  },
  {
   "cell_type": "code",
   "execution_count": 2,
   "metadata": {},
   "outputs": [],
   "source": [
    "import numpy as np\n",
    "import pandas as pd"
   ]
  },
  {
   "cell_type": "markdown",
   "metadata": {},
   "source": [
    "# 1. Opinosis Dataset\n",
    " - Contain **51 paragraphs** of user reviews on a given topic, obtained from Tripdvisor, Edmunds and Amazon\n",
    " - Each paragraph contains 100 sentence in average\n",
    " - Data file also contains **gold standard summaries** of each paragraph for test and validation\n",
    " \n",
    " https://kavita-ganesan.com/opinosis-opinion-dataset/#.Xe6Ya-hKhPY\n",
    " \n",
    " https://github.com/kavgan/opinosis-summarization"
   ]
  },
  {
   "cell_type": "code",
   "execution_count": 5,
   "metadata": {},
   "outputs": [],
   "source": [
    "df = pd.read_csv('C:\\My Github\\EmergingTechnologiesProject\\Experiments\\datasets\\opinosis.csv')"
   ]
  },
  {
   "cell_type": "code",
   "execution_count": 6,
   "metadata": {},
   "outputs": [
    {
     "data": {
      "text/plain": [
       "Index(['text', 'topics', 'summary_number_1', 'summary_number_2',\n",
       "       'summary_number_3', 'summary_number_4', 'summary_number_5'],\n",
       "      dtype='object')"
      ]
     },
     "execution_count": 6,
     "metadata": {},
     "output_type": "execute_result"
    }
   ],
   "source": [
    "df.columns"
   ]
  },
  {
   "cell_type": "code",
   "execution_count": 8,
   "metadata": {},
   "outputs": [],
   "source": [
    "## Clean the paragraph\n",
    "def rm_rrn(string):\n",
    "    if isinstance(string, str):\n",
    "        return string.replace('\\r\\r\\n',' ')"
   ]
  },
  {
   "cell_type": "code",
   "execution_count": 9,
   "metadata": {},
   "outputs": [],
   "source": [
    "df = df.applymap(rm_rrn)"
   ]
  },
  {
   "cell_type": "markdown",
   "metadata": {},
   "source": [
    "#### An example paragraph: text1"
   ]
  },
  {
   "cell_type": "code",
   "execution_count": 10,
   "metadata": {},
   "outputs": [
    {
     "data": {
      "text/plain": [
       "\", and is very, very accurate .  but for the most part, we find that the Garmin software provides accurate directions, whereever we intend to go .  This function is not accurate if you don't leave it in battery mode say, when you stop at the Cracker Barrell for lunch and to play one of those trangle games with the tees .  It provides immediate alternatives if the route from the online map program was inaccurate or blocked by an obstacle .  I've used other GPS units, as well as GPS built into cars   and to this day NOTHING beats the accuracy of a Garmin GPS .  It got me from point A to point B with 100% accuracy everytime .  It has yet to disappoint, getting me everywhere with 100% accuracy . 0 out of 5 stars Honest, accurate review, , PLEASE READ !  Aside from that, every destination I've thrown at has been 100% accurate . In closing, this is a fantastic GPS with some very nice features and is very accurate in directions .  Plus, I've always heard that there are  quirks  with any GPS being accurate, having POIs, etc .  DESTINATION TIME, , This is pretty accurate too .  But, it's always very accurate .  The map is pretty accurate and the Point of interest database also is good .  Most of the times, this info was very accurate . I've even used it in the  pedestrian  mode, and it's amazing how accurate it is .   ONLY  is only accurate when an ad says,  Top sirloin steak, ONLY $1 .  The most accurate review stated that these machines are adjunct to a good map and signs on the interstate .  The directions are highly accurate down to a  T  .  Depending on what you are using it for, it is a nice adjunct to a travel trip and the directions are accurate and usually the quickest, but not always .  The screen is easy to see, the voice tells you where you are and it's very accurate .  It was accurate to the minute when it told me when I would arrive home . 0 out of 5 stars GPS Navigator doesn't navigate accurately on a straight road .  I was familiar with the streets and only used the Nuvi to get an accurate arrival time estimate .  but after that it is very easy and quite accurate to use .  The accuracy at this point is very good . While the 255W routing seems generally accurate and logical, on my first use I discovered that it does have some errors in its internal map .  Bottom line is I wanted a unit that is accurate and had reliable satellite connection .  I've used it around town and find it to be extremely accurate . I found the maps to be inaccurate at first, but after I updated them from Garmin's website everything is golden .  A lot of my friends' addresses are inaccurate by any GPS .  It loads quickly, have pretty accurate directions, and can recalculate quickly when I miss a turn .  Because the accuracy is good to the street address level, it may not be able to guide you to the exact location if your destination is inside a shopping mall . I updated to the latest 2010 map soon after I received the unit, so the map is accurate to me .  I was blown away at the accuracy and routing capability this thing had .  I used it the day I bought it,   and then this morning, and as soon as it comes on it is  ready to navigate  The only downfall of this product, and the only reason I did not give it 5 stars is the fact that the speed limit it displays for the road you are on isn't 100% accurate .  If your looking for a nice, accurate GPS for not so much money, got with this one . 0 out of 5 stars Inexpensive, accurate, plenty of features, August 6, 2009  The only glitch I have found so far is that the speed limits are not 100% accurate, although the GPS, amazingly, is able to very accurately tell you how fast your vehicle is moving .  I was a little disappointed in the inaccuracy of the posted speed limit, as I'm guilty of not paying close enough attention to those signs, especially w  interstate speed traps that are constantly changing up and down .  The closest one that gives the most accurate route that I usually take is the Navigon .  After 2 weeks, it has yet to make a mistake, and is always completely accurate ,  even to the point of telling me which side of the street my destination is on .  It has worked well for local driving giving accurate directions for roads and streets . The estimated time to arrival does not seem to calculate the travelling time accurately . Accuracy is as good as any other unit, they all sometimes tell you you have arrived when you haven't, or continue to tell you to turn when you're already there .  Accuracy is determined by the maps .  Less traveled rural roads will not be accurate on any unit .  Accuracy is within a few yards . What the 255w does best is find a street address, business, point of interest, hospital or airport and give you turn, by, turn directions with amazing accuracy .  The Garmin is loaded with very accurate maps that generally know the roads in even the remotest areas . I'm really glad I bought it though, and like the easy to read graphics, the voice used to tell you the name of the street you are to turn on, the uncannily accurate estimates of mileage and time of arrival at your destination . My new Garmin 255w had very Easy Set Up, Accurate Directions to locations, User Friendly Unit to anyone in my vehicle who tried it .  I had a GPS 10, years ago when I owned a boat that was difficult to use and with very poor accuracy so I had assumed that the road GPS wasn't any better .  Practiced visiting places I already knew to see how accurate the directions and maps would be .  Easy to use, excellent accuracy, nice and intuitive interface .  The directions provided have all been quite accurate thus far . ,  Very Accurate but with one small glitch I found ,  I'll explain in the CONS This is a great GPS, it is so easy to use and it is always accurate . Very easy to operate and pretty accurate as well, only led me astray once and that was in northern Maine where roads are few and paved ones fewer .  Easy to use and amazed at how accurate this item is . To date it's been a very easy to use and accurate .  Mounted really easily and has been very accurate .  seems to be rather accurate .  It was accurate on determing original directions and recalculating when necessary . Highly accurate, POIs are great .  I can't believe how accurate and detailed the information estimated time of arrival,speed limits along the way,and detailed map of my route, to name a few .  Speed of calculation, accuracy, and simplicity of operation are top notch . \""
      ]
     },
     "execution_count": 10,
     "metadata": {},
     "output_type": "execute_result"
    }
   ],
   "source": [
    "text1 = df['text'][0]\n",
    "text1"
   ]
  },
  {
   "cell_type": "markdown",
   "metadata": {},
   "source": [
    "#### Human written summary of text1"
   ]
  },
  {
   "cell_type": "code",
   "execution_count": 11,
   "metadata": {},
   "outputs": [
    {
     "data": {
      "text/plain": [
       "'This unit is generally quite accurate.   Set-up and usage are considered to be very easy.  The maps can be updated, and tend to be reliable. '"
      ]
     },
     "execution_count": 11,
     "metadata": {},
     "output_type": "execute_result"
    }
   ],
   "source": [
    "df['summary_number_1'][0]"
   ]
  },
  {
   "cell_type": "code",
   "execution_count": 12,
   "metadata": {},
   "outputs": [
    {
     "name": "stdout",
     "output_type": "stream",
     "text": [
      "Requirement already satisfied: rouge in c:\\users\\shree\\appdata\\roaming\\python\\python37\\site-packages (1.0.0)\n",
      "Requirement already satisfied: six in c:\\programdata\\anaconda3\\lib\\site-packages (from rouge) (1.14.0)\n",
      "Note: you may need to restart the kernel to use updated packages.\n"
     ]
    }
   ],
   "source": [
    "#pip install rouge --user"
   ]
  },
  {
   "cell_type": "markdown",
   "metadata": {},
   "source": [
    "## 2. Rouge Score for text summarization"
   ]
  },
  {
   "cell_type": "code",
   "execution_count": 13,
   "metadata": {},
   "outputs": [],
   "source": [
    "from rouge import Rouge\n",
    "rouge = Rouge()"
   ]
  },
  {
   "cell_type": "code",
   "execution_count": 14,
   "metadata": {},
   "outputs": [
    {
     "data": {
      "text/plain": [
       "[{'rouge-1': {'f': 0.3809523762358277, 'p': 0.5, 'r': 0.3076923076923077},\n",
       "  'rouge-2': {'f': 0.04999999531250044, 'p': 0.06666666666666667, 'r': 0.04},\n",
       "  'rouge-l': {'f': 0.37837837355734116,\n",
       "   'p': 0.4666666666666667,\n",
       "   'r': 0.3181818181818182}}]"
      ]
     },
     "execution_count": 14,
     "metadata": {},
     "output_type": "execute_result"
    }
   ],
   "source": [
    "rouge.get_scores(df['summary_number_2'][0], df['summary_number_1'][0])"
   ]
  },
  {
   "cell_type": "markdown",
   "metadata": {
    "collapsed": true
   },
   "source": [
    "# 3. Word Frequency Algorithm\n",
    "Bag of words based algorithm\n",
    " - compute word frequency\n",
    " - score each sentence according to word frequency (can be weighted)\n",
    " - generate threshold of sentence selection (average score, etc.)\n",
    " - Selected sentence (score > threshold) as summary"
   ]
  },
  {
   "cell_type": "code",
   "execution_count": 15,
   "metadata": {},
   "outputs": [],
   "source": [
    "import word_frequency_model as wf"
   ]
  },
  {
   "cell_type": "markdown",
   "metadata": {},
   "source": [
    "#### summary of word frequency model on text1\n",
    "1-gram F1-score: 0.156"
   ]
  },
  {
   "cell_type": "code",
   "execution_count": 16,
   "metadata": {},
   "outputs": [
    {
     "data": {
      "text/plain": [
       "\" , and is very, very accurate . It has yet to disappoint, getting me everywhere with 100% accuracy . Aside from that, every destination I've thrown at has been 100% accurate . DESTINATION TIME, , This is pretty accurate too . But, it's always very accurate . Most of the times, this info was very accurate . The directions are highly accurate down to a  T  . It was accurate to the minute when it told me when I would arrive home . The accuracy at this point is very good . Accuracy is as good as any other unit, they all sometimes tell you you have arrived when you haven't, or continue to tell you to turn when you're already there . Accuracy is determined by the maps . Accuracy is within a few yards . Easy to use, excellent accuracy, nice and intuitive interface . The directions provided have all been quite accurate thus far . Easy to use and amazed at how accurate this item is . Mounted really easily and has been very accurate . seems to be rather accurate . It was accurate on determing original directions and recalculating when necessary . Highly accurate, POIs are great . Speed of calculation, accuracy, and simplicity of operation are top notch .\""
      ]
     },
     "execution_count": 16,
     "metadata": {},
     "output_type": "execute_result"
    }
   ],
   "source": [
    "wf_summary1 = wf.summarize_text_wf(text1) ## summary output from \n",
    "wf_summary1"
   ]
  },
  {
   "cell_type": "code",
   "execution_count": 17,
   "metadata": {},
   "outputs": [
    {
     "data": {
      "text/plain": [
       "[{'rouge-1': {'f': 0.11764705674740487, 'p': 0.06666666666666667, 'r': 0.5},\n",
       "  'rouge-2': {'f': 0.01826483816017203, 'p': 0.010309278350515464, 'r': 0.08},\n",
       "  'rouge-l': {'f': 0.15602836616065593, 'p': 0.09243697478991597, 'r': 0.5}}]"
      ]
     },
     "execution_count": 17,
     "metadata": {},
     "output_type": "execute_result"
    }
   ],
   "source": [
    "rouge.get_scores(wf_summary1, df['summary_number_1'][0])"
   ]
  },
  {
   "cell_type": "markdown",
   "metadata": {},
   "source": [
    "# 4. TextRank Algorithms\n"
   ]
  },
  {
   "cell_type": "markdown",
   "metadata": {},
   "source": [
    "### Pytextrank package"
   ]
  },
  {
   "cell_type": "code",
   "execution_count": 19,
   "metadata": {},
   "outputs": [],
   "source": [
    "import textrank_graph_model as tr"
   ]
  },
  {
   "cell_type": "code",
   "execution_count": 20,
   "metadata": {},
   "outputs": [
    {
     "data": {
      "text/plain": [
       "\"In closing, this is a fantastic GPS with some very nice features and is very accurate in directions .\\nThe map is pretty accurate and the Point of interest database also is good .\\nThe most accurate review stated that these machines are adjunct to a good map and signs on the interstate .\\nWhile the 255W routing seems generally accurate and logical, on my first use I discovered that it does have some errors in its internal map .\\nIt has worked well for local driving giving accurate directions for roads and streets .\\nLess traveled rural roads will not be accurate on any unit .\\nThe Garmin is loaded with very accurate maps that generally know the roads in even the remotest areas .\\nI'm really glad I bought it though, and like the easy to read graphics, the voice used to tell you the name of the street you are to turn on, the uncannily accurate estimates of mileage and time of arrival at your destination .\\nMy new Garmin 255w had very Easy Set Up, Accurate Directions to locations, User Friendly Unit to anyone in my vehicle who tried it .\\nThe directions provided have all been quite accurate thus far .\\nEasy to use and amazed at how accurate this item is .\\nTo date it's been a very easy to use and accurate .\\nI can't believe how accurate and detailed the information estimated time of arrival,speed limits along the way,and detailed map of my route, to name a few .\""
      ]
     },
     "execution_count": 20,
     "metadata": {},
     "output_type": "execute_result"
    }
   ],
   "source": [
    "tr_summary1 = tr.gensim_summarize(text1) # summary output fro gensim package\n",
    "tr_summary1"
   ]
  },
  {
   "cell_type": "markdown",
   "metadata": {},
   "source": [
    "**summary of text rank model on text1**\n",
    "\n",
    "1-gram F1-score: 0.156"
   ]
  },
  {
   "cell_type": "code",
   "execution_count": 21,
   "metadata": {
    "scrolled": true
   },
   "outputs": [
    {
     "data": {
      "text/plain": [
       "[{'rouge-1': {'f': 0.11111110937064472,\n",
       "   'p': 0.06147540983606557,\n",
       "   'r': 0.5769230769230769},\n",
       "  'rouge-2': {'f': 0.014925371442693442, 'p': 0.00823045267489712, 'r': 0.08},\n",
       "  'rouge-l': {'f': 0.14371257256265915,\n",
       "   'p': 0.08275862068965517,\n",
       "   'r': 0.5454545454545454}}]"
      ]
     },
     "execution_count": 21,
     "metadata": {},
     "output_type": "execute_result"
    }
   ],
   "source": [
    "rouge.get_scores(tr_summary1, df['summary_number_1'][0])"
   ]
  },
  {
   "cell_type": "markdown",
   "metadata": {},
   "source": [
    "## 5. Kmean clustering of sentence embedding using Bert"
   ]
  },
  {
   "cell_type": "markdown",
   "metadata": {},
   "source": [
    "### 5. 1 BERT pretrained pytorch model "
   ]
  },
  {
   "cell_type": "code",
   "execution_count": 22,
   "metadata": {},
   "outputs": [],
   "source": [
    "import bert_clustering_summary as bs"
   ]
  },
  {
   "cell_type": "code",
   "execution_count": 23,
   "metadata": {},
   "outputs": [
    {
     "data": {
      "text/plain": [
       "\"In closing, this is a fantastic GPS with some very nice features and is very accurate in directions . Most of the times, this info was very accurate . but after that it is very easy and quite accurate to use . The accuracy at this point is very good . I updated to the latest 2010 map soon after I received the unit, so the map is accurate to me . The Garmin is loaded with very accurate maps that generally know the roads in even the remotest areas . I'm really glad I bought it though, and like the easy to read graphics, the voice used to tell you the name of the street you are to turn on, the uncannily accurate estimates of mileage and time of arrival at your destination . I had a GPS 10, years ago when I owned a boat that was difficult to use and with very poor accuracy so I had assumed that the road GPS wasn't any better . Speed of calculation, accuracy, and simplicity of operation are top notch .\""
      ]
     },
     "execution_count": 23,
     "metadata": {},
     "output_type": "execute_result"
    }
   ],
   "source": [
    "bs_summary1 = bs.bertSummarize(text1)\n",
    "bs_summary1"
   ]
  },
  {
   "cell_type": "markdown",
   "metadata": {},
   "source": [
    "**Summary of BERT clustering model on text1**\n",
    "\n",
    "1-gram F1-score: 0.155"
   ]
  },
  {
   "cell_type": "code",
   "execution_count": 24,
   "metadata": {},
   "outputs": [
    {
     "data": {
      "text/plain": [
       "[{'rouge-1': {'f': 0.13131312903173148, 'p': 0.0755813953488372, 'r': 0.5},\n",
       "  'rouge-2': {'f': 0.020408161039671212, 'p': 0.011695906432748537, 'r': 0.08},\n",
       "  'rouge-l': {'f': 0.1652892532231405,\n",
       "   'p': 0.10101010101010101,\n",
       "   'r': 0.45454545454545453}}]"
      ]
     },
     "execution_count": 24,
     "metadata": {},
     "output_type": "execute_result"
    }
   ],
   "source": [
    "rouge.get_scores(bs_summary1, df['summary_number_1'][0])"
   ]
  },
  {
   "cell_type": "markdown",
   "metadata": {},
   "source": [
    "### 5.2 Another package using similar implementation\n",
    "bert-extractive-summarizer"
   ]
  },
  {
   "cell_type": "code",
   "execution_count": 26,
   "metadata": {},
   "outputs": [
    {
     "name": "stderr",
     "output_type": "stream",
     "text": [
      "C:\\ProgramData\\Anaconda3\\lib\\site-packages\\torch\\cuda\\__init__.py:52: UserWarning: CUDA initialization: Found no NVIDIA driver on your system. Please check that you have an NVIDIA GPU and installed a driver from http://www.nvidia.com/Download/index.aspx (Triggered internally at  ..\\c10\\cuda\\CUDAFunctions.cpp:100.)\n",
      "  return torch._C._cuda_getDeviceCount() > 0\n"
     ]
    }
   ],
   "source": [
    "from summarizer import Summarizer"
   ]
  },
  {
   "cell_type": "code",
   "execution_count": 27,
   "metadata": {},
   "outputs": [],
   "source": [
    "model = Summarizer()"
   ]
  },
  {
   "cell_type": "code",
   "execution_count": 28,
   "metadata": {},
   "outputs": [],
   "source": [
    "bert_sum = model(text1)"
   ]
  },
  {
   "cell_type": "markdown",
   "metadata": {},
   "source": [
    "**summary of bert-extractive-summarizer on text1**\n",
    "\n",
    "1-gram F1-score: 0.149"
   ]
  },
  {
   "cell_type": "code",
   "execution_count": 29,
   "metadata": {},
   "outputs": [
    {
     "data": {
      "text/plain": [
       "[{'rouge-1': {'f': 0.0991735518011065,\n",
       "   'p': 0.05555555555555555,\n",
       "   'r': 0.46153846153846156},\n",
       "  'rouge-2': {'f': 0.008333331467014305, 'p': 0.004651162790697674, 'r': 0.04},\n",
       "  'rouge-l': {'f': 0.122448977046601, 'p': 0.072, 'r': 0.4090909090909091}}]"
      ]
     },
     "execution_count": 29,
     "metadata": {},
     "output_type": "execute_result"
    }
   ],
   "source": [
    "rouge.get_scores(bert_sum, df['summary_number_1'][0])"
   ]
  },
  {
   "cell_type": "markdown",
   "metadata": {},
   "source": [
    "## 6. Test and Compare using Opinosis Dataset"
   ]
  },
  {
   "cell_type": "markdown",
   "metadata": {},
   "source": [
    "### 6.1 Produce summary and compute ROUGE score from each model"
   ]
  },
  {
   "cell_type": "code",
   "execution_count": 30,
   "metadata": {},
   "outputs": [
    {
     "data": {
      "text/plain": [
       "Index(['text', 'topics', 'summary_number_1', 'summary_number_2',\n",
       "       'summary_number_3', 'summary_number_4', 'summary_number_5'],\n",
       "      dtype='object')"
      ]
     },
     "execution_count": 30,
     "metadata": {},
     "output_type": "execute_result"
    }
   ],
   "source": [
    "df.columns"
   ]
  },
  {
   "cell_type": "code",
   "execution_count": 31,
   "metadata": {},
   "outputs": [],
   "source": [
    "df['wf_summary'] = df['text'].apply(lambda x: wf.summarize_text_wf(x))\n",
    "df['wf_rouge1_f1'] = df[['wf_summary','summary_number_1']]. \\\n",
    "                apply(lambda x: rouge.get_scores(x[0],x[1])[0]['rouge-1']['f'],axis=1)"
   ]
  },
  {
   "cell_type": "code",
   "execution_count": 32,
   "metadata": {},
   "outputs": [],
   "source": [
    "df['tr_summary'] = df['text'].apply(lambda x: tr.gensim_summarize(x))\n",
    "df['tr_rouge1_f1'] = df[['tr_summary','summary_number_1']]. \\\n",
    "                apply(lambda x: rouge.get_scores(x[0],x[1])[0]['rouge-1']['f'],axis=1)"
   ]
  },
  {
   "cell_type": "code",
   "execution_count": null,
   "metadata": {},
   "outputs": [],
   "source": [
    "df['bs_summary'] = df['text'].apply(lambda x: bs.bertSummarize(x))\n",
    "df['bs_rouge1_f1'] = df[['bs_summary','summary_number_1']]. \\\n",
    "                apply(lambda x: rouge.get_scores(x[0],x[1])[0]['rouge-1']['f'],axis=1)"
   ]
  },
  {
   "cell_type": "code",
   "execution_count": 28,
   "metadata": {},
   "outputs": [
    {
     "data": {
      "text/plain": [
       "(0.06213358879699614, 0.05336524006037238, 0.08687333193272241)"
      ]
     },
     "execution_count": 28,
     "metadata": {},
     "output_type": "execute_result"
    }
   ],
   "source": [
    "np.mean(df['tr_rouge1_f1']),np.mean(df['wf_rouge1_f1']),np.mean(df['bs_rouge1_f1'])"
   ]
  },
  {
   "cell_type": "code",
   "execution_count": 29,
   "metadata": {},
   "outputs": [],
   "source": [
    "df.to_csv('opniosis with summary.csv')"
   ]
  },
  {
   "cell_type": "markdown",
   "metadata": {},
   "source": [
    "### 6.2 Plot and Compare"
   ]
  },
  {
   "cell_type": "code",
   "execution_count": 30,
   "metadata": {},
   "outputs": [],
   "source": [
    "from matplotlib import pyplot as plt\n",
    "import seaborn as sns"
   ]
  },
  {
   "cell_type": "code",
   "execution_count": 31,
   "metadata": {},
   "outputs": [
    {
     "data": {
      "text/plain": [
       "Text(0.5, 1.0, 'ROUGE-1 Score Density')"
      ]
     },
     "execution_count": 31,
     "metadata": {},
     "output_type": "execute_result"
    },
    {
     "data": {
      "image/png": "[encoded data removed]",
      "text/plain": [
       "<Figure size 720x288 with 1 Axes>"
      ]
     },
     "metadata": {
      "needs_background": "light"
     },
     "output_type": "display_data"
    },
    {
     "data": {
      "image/png": "[encoded data removed]",
      "text/plain": [
       "<Figure size 720x288 with 1 Axes>"
      ]
     },
     "metadata": {
      "needs_background": "light"
     },
     "output_type": "display_data"
    }
   ],
   "source": [
    "plt.figure(figsize=(10,4))\n",
    "\n",
    "x = ['Word frequency model','Text rank model','BERT clustering model']\n",
    "ROUGE1_mean = [0.10086302166961408, 0.09081258684152636, 0.11577391319962924]\n",
    "\n",
    "x_pos = [i for i, _ in enumerate(x)]\n",
    "\n",
    "plt.bar(x_pos, ROUGE1_mean, color=['#E69F00','#56B4E9','#009E73'])\n",
    "\n",
    "\n",
    "plt.xlabel('Rouge_1-gram_F1 score')\n",
    "plt.ylabel('Mean')\n",
    "plt.title(\"ROUGE-1 Score Mean\")\n",
    "\n",
    "plt.xticks(x_pos, x)\n",
    "\n",
    "plt.figure(figsize=(10,4))\n",
    "\n",
    "sns.distplot(df['wf_rouge1_f1'], hist=False, kde=True, color = '#E69F00', \n",
    "             kde_kws={'linewidth': 4},label='Word frequency model')\n",
    "\n",
    "sns.distplot(df['tr_rouge1_f1'], hist=False, kde=True,color = '#56B4E9',\n",
    "             kde_kws={'linewidth': 4},label='Text rank model')\n",
    "\n",
    "sns.distplot(df['bs_rouge1_f1'], hist=False, kde=True,color = '#009E73',\n",
    "             kde_kws={'linewidth': 4},label='BERT clustering model')\n",
    "\n",
    "plt.legend(prop={'size': 10}, title = 'Models')\n",
    "\n",
    "plt.xlabel('Rouge_1-gram_F1 score')\n",
    "plt.ylabel('Density')\n",
    "plt.title(\"ROUGE-1 Score Density\")\n"
   ]
  },
  {
   "cell_type": "markdown",
   "metadata": {},
   "source": [
    "# References\n",
    "\n",
    "1. https://github.com/RaRe-Technologies/gensim/tree/develop/gensim/summarization\n",
    "2. https://github.com/DerwenAI/pytextrank/blob/master/explain_summ.ipynb\n",
    "3. https://pypi.org/project/pytorch-pretrained-bert/\n",
    "4. https://github.com/dmmiller612/bert-extractive-summarizer"
   ]
  },
  {
   "cell_type": "code",
   "execution_count": null,
   "metadata": {},
   "outputs": [],
   "source": []
  }
 ],
 "metadata": {
  "kernelspec": {
   "display_name": "Python 3",
   "language": "python",
   "name": "python3"
  },
  "language_info": {
   "codemirror_mode": {
    "name": "ipython",
    "version": 3
   },
   "file_extension": ".py",
   "mimetype": "text/x-python",
   "name": "python",
   "nbconvert_exporter": "python",
   "pygments_lexer": "ipython3",
   "version": "3.7.3"
  }
 },
 "nbformat": 4,
 "nbformat_minor": 2
}
